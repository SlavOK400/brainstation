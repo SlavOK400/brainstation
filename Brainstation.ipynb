{
 "cells": [
  {
   "cell_type": "markdown",
   "metadata": {},
   "source": [
    "# Class 1\n",
    "## Unit 1. Intro to ML"
   ]
  },
  {
   "cell_type": "code",
   "execution_count": 1,
   "metadata": {},
   "outputs": [],
   "source": [
    "import pandas as pd\n",
    "import numpy as np\n",
    "import pandas as pd\n",
    "import matplotlib.pyplot as plt\n",
    "import statsmodels.api as sm\n",
    "import urllib.request\n",
    "import time\n",
    "import bs4 as bs\n",
    "from geopy.geocoders import Nominatim\n",
    "geolocator = Nominatim(user_agent=\"specify_your_app_name_here\")"
   ]
  },
  {
   "cell_type": "code",
   "execution_count": 2,
   "metadata": {},
   "outputs": [
    {
     "data": {
      "text/plain": [
       "array([1, 2, 3])"
      ]
     },
     "execution_count": 2,
     "metadata": {},
     "output_type": "execute_result"
    }
   ],
   "source": [
    "np.array(a)"
   ]
  },
  {
   "cell_type": "code",
   "execution_count": 3,
   "metadata": {},
   "outputs": [],
   "source": [
    "# bigquery, google cloud, SageMaker\n",
    "# google cloud - Ai platfor for tensorflow - best for neural networks\n",
    "# google cloud - Auto ML"
   ]
  },
  {
   "cell_type": "code",
   "execution_count": 4,
   "metadata": {},
   "outputs": [],
   "source": [
    "#imbedings, glowe? - pretrain models for vector representation of text.\n",
    "#kares? nml module.\n",
    "\n",
    "\n",
    "# get data, what package to use, do wording embeddings"
   ]
  },
  {
   "cell_type": "markdown",
   "metadata": {},
   "source": [
    "# Homework 1"
   ]
  },
  {
   "cell_type": "code",
   "execution_count": 5,
   "metadata": {},
   "outputs": [
    {
     "data": {
      "text/plain": [
       "[3, 9, 15, 21, 30]"
      ]
     },
     "execution_count": 5,
     "metadata": {},
     "output_type": "execute_result"
    }
   ],
   "source": [
    "numbers = [2,3,5,8,9,14,15,21,23,25,30]\n",
    "\n",
    "[i for i in numbers if i%3 == 0]"
   ]
  },
  {
   "cell_type": "code",
   "execution_count": 6,
   "metadata": {},
   "outputs": [
    {
     "data": {
      "text/plain": [
       "{'key2': 'val2', 'key3': 'val3'}"
      ]
     },
     "execution_count": 6,
     "metadata": {},
     "output_type": "execute_result"
    }
   ],
   "source": [
    "dict1 = {'key1':'val1', 'key2':'val2', 'key3':'val3'}\n",
    "{k:v for k,v in dict1.items() if v[3] > '1'}\n"
   ]
  },
  {
   "cell_type": "code",
   "execution_count": 7,
   "metadata": {},
   "outputs": [
    {
     "data": {
      "text/plain": [
       "[(0, 2),\n",
       " (1, 3),\n",
       " (2, 5),\n",
       " (3, 8),\n",
       " (4, 9),\n",
       " (5, 14),\n",
       " (6, 15),\n",
       " (7, 21),\n",
       " (8, 23),\n",
       " (9, 25),\n",
       " (10, 30)]"
      ]
     },
     "execution_count": 7,
     "metadata": {},
     "output_type": "execute_result"
    }
   ],
   "source": [
    "[(i,e) for i,e in enumerate(numbers)]"
   ]
  },
  {
   "cell_type": "code",
   "execution_count": 8,
   "metadata": {},
   "outputs": [],
   "source": [
    "twoDimensions = np.array([[1,2,3,4],\n",
    "                          [5,6,7,8],\n",
    "                          [9,10,11,12]])"
   ]
  },
  {
   "cell_type": "code",
   "execution_count": 9,
   "metadata": {},
   "outputs": [
    {
     "name": "stdout",
     "output_type": "stream",
     "text": [
      "[0 1 2 3 4 5 6 7 8 9]\n",
      "[[6.23042070e-307 4.67296746e-307 1.69121096e-306 1.11261298e-306]\n",
      " [6.23059726e-307 2.22522597e-306 1.33511969e-306 1.37962320e-306]\n",
      " [9.34604358e-307 9.79101082e-307 1.78020576e-306 1.69119873e-306]\n",
      " [2.22522868e-306 1.24611809e-306 8.06632139e-308 1.60221208e-306]]\n",
      "[[0. 0. 0. 0.]\n",
      " [0. 0. 0. 0.]\n",
      " [0. 0. 0. 0.]\n",
      " [0. 0. 0. 0.]]\n",
      "[[0.93322201 0.8008409 ]\n",
      " [0.57901907 0.46395178]]\n",
      "[[-0.87116813 -0.32003323]\n",
      " [ 1.86623795 -1.34716903]]\n"
     ]
    }
   ],
   "source": [
    "print(np.arange(10))\n",
    "print(np.empty([4,4]))\n",
    "print(np.zeros([4,4]))\n",
    "print(np.random.rand(2,2))\n",
    "print(np.random.randn(2,2))"
   ]
  },
  {
   "cell_type": "code",
   "execution_count": 10,
   "metadata": {},
   "outputs": [
    {
     "name": "stdout",
     "output_type": "stream",
     "text": [
      "False\n",
      "True\n"
     ]
    }
   ],
   "source": [
    "print(np.NaN == np.NaN)\n",
    "print(np.isnan(np.NaN))"
   ]
  },
  {
   "cell_type": "code",
   "execution_count": 11,
   "metadata": {},
   "outputs": [
    {
     "name": "stdout",
     "output_type": "stream",
     "text": [
      "[ 1.76405235  0.40015721  0.97873798  2.2408932   1.86755799 -0.97727788\n",
      "  0.95008842 -0.15135721 -0.10321885  0.4105985 ]\n",
      "0.74\n",
      "[-2 -1 -1 -3 -2 -1 -1 -1 -1 -1]\n",
      "[False False  True]\n"
     ]
    }
   ],
   "source": [
    "### Exercise 1\n",
    "np.random.seed(0)\n",
    "array1d = np.random.randn(10)\n",
    "print(array1d)\n",
    "print( '%.2f' %  array1d.mean())\n",
    "print(np.invert(array1d.astype(np.int64)))\n",
    "print(np.invert(np.array([True, True, False])))"
   ]
  },
  {
   "cell_type": "code",
   "execution_count": 12,
   "metadata": {},
   "outputs": [
    {
     "name": "stdout",
     "output_type": "stream",
     "text": [
      "original [[0]\n",
      " [1]\n",
      " [2]\n",
      " [3]]\n",
      "reshaped [[0 1 2 3]]\n"
     ]
    }
   ],
   "source": [
    "vec = np.arange(4).reshape(4,1)\n",
    "print('original',vec)\n",
    "print('reshaped' ,vec.T)"
   ]
  },
  {
   "cell_type": "code",
   "execution_count": 13,
   "metadata": {},
   "outputs": [
    {
     "data": {
      "text/plain": [
       "array([[False],\n",
       "       [False],\n",
       "       [ True],\n",
       "       [ True]])"
      ]
     },
     "execution_count": 13,
     "metadata": {},
     "output_type": "execute_result"
    }
   ],
   "source": [
    "np.where(vec >= 2, True, False)"
   ]
  },
  {
   "cell_type": "code",
   "execution_count": 14,
   "metadata": {},
   "outputs": [
    {
     "name": "stdout",
     "output_type": "stream",
     "text": [
      "[[[ 0  1  2  3  4]\n",
      "  [ 5  6  7  8  9]]\n",
      "\n",
      " [[10 11 12 13 14]\n",
      "  [15 16 17 18 19]]]\n",
      "[1 2 1 5 5 7]\n",
      "[[ 2.  -2.   4.   2.  10. ]\n",
      " [10.  -1.  -0.5 14.  -0.5]]\n",
      "[[ 2  0  4  2 10]\n",
      " [10  0  0 14  0]]\n"
     ]
    }
   ],
   "source": [
    "### Exercise 2\n",
    "vec = np.arange(20, dtype = np.int32)\n",
    "print(vec.reshape(2,2,5))\n",
    "\n",
    "a= np.array([[1,-4,2,1,5],[5,-2,-1,7,-1]])\n",
    "print(a[a>0])\n",
    "print(np.where(a>0, a*2, a/2))\n",
    "print(np.where(a>0, a*2, 0))"
   ]
  },
  {
   "cell_type": "code",
   "execution_count": 15,
   "metadata": {},
   "outputs": [
    {
     "name": "stdout",
     "output_type": "stream",
     "text": [
      "5.38 µs ± 250 ns per loop (mean ± std. dev. of 7 runs, 100000 loops each)\n"
     ]
    }
   ],
   "source": [
    "x = np.arange(10000)\n",
    "y = np.arange(10000)\n",
    "%timeit np.dot(x,y)"
   ]
  },
  {
   "cell_type": "code",
   "execution_count": 16,
   "metadata": {},
   "outputs": [
    {
     "data": {
      "text/html": [
       "<div>\n",
       "<style scoped>\n",
       "    .dataframe tbody tr th:only-of-type {\n",
       "        vertical-align: middle;\n",
       "    }\n",
       "\n",
       "    .dataframe tbody tr th {\n",
       "        vertical-align: top;\n",
       "    }\n",
       "\n",
       "    .dataframe thead th {\n",
       "        text-align: right;\n",
       "    }\n",
       "</style>\n",
       "<table border=\"1\" class=\"dataframe\">\n",
       "  <thead>\n",
       "    <tr style=\"text-align: right;\">\n",
       "      <th></th>\n",
       "      <th>one</th>\n",
       "      <th>two</th>\n",
       "      <th>three</th>\n",
       "    </tr>\n",
       "  </thead>\n",
       "  <tbody>\n",
       "    <tr>\n",
       "      <th>1</th>\n",
       "      <td>0</td>\n",
       "      <td>1</td>\n",
       "      <td>1</td>\n",
       "    </tr>\n",
       "    <tr>\n",
       "      <th>2</th>\n",
       "      <td>0</td>\n",
       "      <td>0</td>\n",
       "      <td>1</td>\n",
       "    </tr>\n",
       "    <tr>\n",
       "      <th>3</th>\n",
       "      <td>1</td>\n",
       "      <td>1</td>\n",
       "      <td>1</td>\n",
       "    </tr>\n",
       "  </tbody>\n",
       "</table>\n",
       "</div>"
      ],
      "text/plain": [
       "   one  two  three\n",
       "1    0    1      1\n",
       "2    0    0      1\n",
       "3    1    1      1"
      ]
     },
     "execution_count": 16,
     "metadata": {},
     "output_type": "execute_result"
    }
   ],
   "source": [
    "vec = np.random.randint(0,2, size = (3,3))\n",
    "frame = pd.DataFrame(vec, columns=['one', 'two', 'three'])\n",
    "frame.index = [1,2,3]\n",
    "frame"
   ]
  },
  {
   "cell_type": "code",
   "execution_count": 17,
   "metadata": {},
   "outputs": [
    {
     "data": {
      "text/plain": [
       "([1, 4, 3.14159, 3, 1, 4, 1, 5, 9], ['6', 'mike', 'pie', 'number'])"
      ]
     },
     "execution_count": 17,
     "metadata": {},
     "output_type": "execute_result"
    }
   ],
   "source": [
    "### Exercise 3.1\n",
    "testlist = [1,4,'6', 'mike', 3.14159, 'pie', 'number', 3, 1, 4, 1, 5, 9]\n",
    "\n",
    "def sortbydtype(vec):\n",
    "    return [i for i in vec if type(i) != str], [i for i in vec if type(i) == str]\n",
    "    \n",
    "sortbydtype(testlist)"
   ]
  },
  {
   "cell_type": "code",
   "execution_count": 18,
   "metadata": {},
   "outputs": [],
   "source": [
    "### Exercise 3.2\n",
    "flights = pd.read_csv(r'datasets\\brainstation\\flights.csv')\n",
    "planes = pd.read_csv(r'datasets\\brainstation\\planes.csv')"
   ]
  },
  {
   "cell_type": "code",
   "execution_count": 19,
   "metadata": {},
   "outputs": [
    {
     "name": "stdout",
     "output_type": "stream",
     "text": [
      "shape:  (10000, 19)\n",
      "--------------------\n",
      "year                 1\n",
      "month               12\n",
      "day                 31\n",
      "dep_time          1122\n",
      "sched_dep_time     832\n",
      "dep_delay          277\n",
      "arr_time          1190\n",
      "sched_arr_time    1074\n",
      "arr_delay          324\n",
      "carrier             15\n",
      "flight            2300\n",
      "tailnum           2789\n",
      "origin               3\n",
      "dest                99\n",
      "air_time           379\n",
      "distance           200\n",
      "hour                19\n",
      "minute              60\n",
      "time_hour         4852\n",
      "dtype: int64\n",
      "--------------------\n",
      "<class 'pandas.core.frame.DataFrame'>\n",
      "RangeIndex: 10000 entries, 0 to 9999\n",
      "Data columns (total 19 columns):\n",
      "year              10000 non-null int64\n",
      "month             10000 non-null int64\n",
      "day               10000 non-null int64\n",
      "dep_time          9771 non-null float64\n",
      "sched_dep_time    10000 non-null int64\n",
      "dep_delay         9771 non-null float64\n",
      "arr_time          9760 non-null float64\n",
      "sched_arr_time    10000 non-null int64\n",
      "arr_delay         9743 non-null float64\n",
      "carrier           10000 non-null object\n",
      "flight            10000 non-null int64\n",
      "tailnum           9929 non-null object\n",
      "origin            10000 non-null object\n",
      "dest              10000 non-null object\n",
      "air_time          9743 non-null float64\n",
      "distance          10000 non-null int64\n",
      "hour              10000 non-null int64\n",
      "minute            10000 non-null int64\n",
      "time_hour         10000 non-null object\n",
      "dtypes: float64(5), int64(9), object(5)\n",
      "memory usage: 1.4+ MB\n",
      "None\n"
     ]
    },
    {
     "data": {
      "text/html": [
       "<div>\n",
       "<style scoped>\n",
       "    .dataframe tbody tr th:only-of-type {\n",
       "        vertical-align: middle;\n",
       "    }\n",
       "\n",
       "    .dataframe tbody tr th {\n",
       "        vertical-align: top;\n",
       "    }\n",
       "\n",
       "    .dataframe thead th {\n",
       "        text-align: right;\n",
       "    }\n",
       "</style>\n",
       "<table border=\"1\" class=\"dataframe\">\n",
       "  <thead>\n",
       "    <tr style=\"text-align: right;\">\n",
       "      <th></th>\n",
       "      <th>year</th>\n",
       "      <th>month</th>\n",
       "      <th>day</th>\n",
       "      <th>dep_time</th>\n",
       "      <th>sched_dep_time</th>\n",
       "      <th>dep_delay</th>\n",
       "      <th>arr_time</th>\n",
       "      <th>sched_arr_time</th>\n",
       "      <th>arr_delay</th>\n",
       "      <th>carrier</th>\n",
       "      <th>flight</th>\n",
       "      <th>tailnum</th>\n",
       "      <th>origin</th>\n",
       "      <th>dest</th>\n",
       "      <th>air_time</th>\n",
       "      <th>distance</th>\n",
       "      <th>hour</th>\n",
       "      <th>minute</th>\n",
       "      <th>time_hour</th>\n",
       "    </tr>\n",
       "  </thead>\n",
       "  <tbody>\n",
       "    <tr>\n",
       "      <th>0</th>\n",
       "      <td>2013</td>\n",
       "      <td>1</td>\n",
       "      <td>1</td>\n",
       "      <td>517.0</td>\n",
       "      <td>515</td>\n",
       "      <td>2.0</td>\n",
       "      <td>830.0</td>\n",
       "      <td>819</td>\n",
       "      <td>11.0</td>\n",
       "      <td>UA</td>\n",
       "      <td>1545</td>\n",
       "      <td>N14228</td>\n",
       "      <td>EWR</td>\n",
       "      <td>IAH</td>\n",
       "      <td>227.0</td>\n",
       "      <td>1400</td>\n",
       "      <td>5</td>\n",
       "      <td>15</td>\n",
       "      <td>2013-01-01T10:00:00Z</td>\n",
       "    </tr>\n",
       "    <tr>\n",
       "      <th>1</th>\n",
       "      <td>2013</td>\n",
       "      <td>1</td>\n",
       "      <td>1</td>\n",
       "      <td>635.0</td>\n",
       "      <td>635</td>\n",
       "      <td>0.0</td>\n",
       "      <td>1028.0</td>\n",
       "      <td>940</td>\n",
       "      <td>48.0</td>\n",
       "      <td>AA</td>\n",
       "      <td>711</td>\n",
       "      <td>N3GKAA</td>\n",
       "      <td>LGA</td>\n",
       "      <td>DFW</td>\n",
       "      <td>248.0</td>\n",
       "      <td>1389</td>\n",
       "      <td>6</td>\n",
       "      <td>35</td>\n",
       "      <td>2013-01-01T11:00:00Z</td>\n",
       "    </tr>\n",
       "    <tr>\n",
       "      <th>2</th>\n",
       "      <td>2013</td>\n",
       "      <td>1</td>\n",
       "      <td>1</td>\n",
       "      <td>732.0</td>\n",
       "      <td>645</td>\n",
       "      <td>47.0</td>\n",
       "      <td>1011.0</td>\n",
       "      <td>941</td>\n",
       "      <td>30.0</td>\n",
       "      <td>UA</td>\n",
       "      <td>1111</td>\n",
       "      <td>N37456</td>\n",
       "      <td>EWR</td>\n",
       "      <td>MCO</td>\n",
       "      <td>145.0</td>\n",
       "      <td>937</td>\n",
       "      <td>6</td>\n",
       "      <td>45</td>\n",
       "      <td>2013-01-01T11:00:00Z</td>\n",
       "    </tr>\n",
       "    <tr>\n",
       "      <th>3</th>\n",
       "      <td>2013</td>\n",
       "      <td>1</td>\n",
       "      <td>1</td>\n",
       "      <td>805.0</td>\n",
       "      <td>805</td>\n",
       "      <td>0.0</td>\n",
       "      <td>1015.0</td>\n",
       "      <td>1005</td>\n",
       "      <td>10.0</td>\n",
       "      <td>B6</td>\n",
       "      <td>219</td>\n",
       "      <td>N273JB</td>\n",
       "      <td>JFK</td>\n",
       "      <td>CLT</td>\n",
       "      <td>98.0</td>\n",
       "      <td>541</td>\n",
       "      <td>8</td>\n",
       "      <td>5</td>\n",
       "      <td>2013-01-01T13:00:00Z</td>\n",
       "    </tr>\n",
       "    <tr>\n",
       "      <th>4</th>\n",
       "      <td>2013</td>\n",
       "      <td>1</td>\n",
       "      <td>1</td>\n",
       "      <td>824.0</td>\n",
       "      <td>830</td>\n",
       "      <td>-6.0</td>\n",
       "      <td>1027.0</td>\n",
       "      <td>1025</td>\n",
       "      <td>2.0</td>\n",
       "      <td>AA</td>\n",
       "      <td>1855</td>\n",
       "      <td>N573AA</td>\n",
       "      <td>LGA</td>\n",
       "      <td>STL</td>\n",
       "      <td>169.0</td>\n",
       "      <td>888</td>\n",
       "      <td>8</td>\n",
       "      <td>30</td>\n",
       "      <td>2013-01-01T13:00:00Z</td>\n",
       "    </tr>\n",
       "  </tbody>\n",
       "</table>\n",
       "</div>"
      ],
      "text/plain": [
       "   year  month  day  dep_time  sched_dep_time  dep_delay  arr_time  \\\n",
       "0  2013      1    1     517.0             515        2.0     830.0   \n",
       "1  2013      1    1     635.0             635        0.0    1028.0   \n",
       "2  2013      1    1     732.0             645       47.0    1011.0   \n",
       "3  2013      1    1     805.0             805        0.0    1015.0   \n",
       "4  2013      1    1     824.0             830       -6.0    1027.0   \n",
       "\n",
       "   sched_arr_time  arr_delay carrier  flight tailnum origin dest  air_time  \\\n",
       "0             819       11.0      UA    1545  N14228    EWR  IAH     227.0   \n",
       "1             940       48.0      AA     711  N3GKAA    LGA  DFW     248.0   \n",
       "2             941       30.0      UA    1111  N37456    EWR  MCO     145.0   \n",
       "3            1005       10.0      B6     219  N273JB    JFK  CLT      98.0   \n",
       "4            1025        2.0      AA    1855  N573AA    LGA  STL     169.0   \n",
       "\n",
       "   distance  hour  minute             time_hour  \n",
       "0      1400     5      15  2013-01-01T10:00:00Z  \n",
       "1      1389     6      35  2013-01-01T11:00:00Z  \n",
       "2       937     6      45  2013-01-01T11:00:00Z  \n",
       "3       541     8       5  2013-01-01T13:00:00Z  \n",
       "4       888     8      30  2013-01-01T13:00:00Z  "
      ]
     },
     "execution_count": 19,
     "metadata": {},
     "output_type": "execute_result"
    }
   ],
   "source": [
    "print('shape: ' ,flights.shape)\n",
    "print('-' * 20)\n",
    "print(flights.apply(pd.Series.nunique))\n",
    "print('-' * 20)\n",
    "print(flights.info())\n",
    "flights.head()"
   ]
  },
  {
   "cell_type": "code",
   "execution_count": 20,
   "metadata": {},
   "outputs": [
    {
     "name": "stdout",
     "output_type": "stream",
     "text": [
      "shape:  (3322, 9)\n",
      "--------------------\n",
      "tailnum         3322\n",
      "year              46\n",
      "type               3\n",
      "manufacturer      35\n",
      "model            127\n",
      "engines            4\n",
      "seats             48\n",
      "speed             13\n",
      "engine             6\n",
      "dtype: int64\n"
     ]
    },
    {
     "data": {
      "text/html": [
       "<div>\n",
       "<style scoped>\n",
       "    .dataframe tbody tr th:only-of-type {\n",
       "        vertical-align: middle;\n",
       "    }\n",
       "\n",
       "    .dataframe tbody tr th {\n",
       "        vertical-align: top;\n",
       "    }\n",
       "\n",
       "    .dataframe thead th {\n",
       "        text-align: right;\n",
       "    }\n",
       "</style>\n",
       "<table border=\"1\" class=\"dataframe\">\n",
       "  <thead>\n",
       "    <tr style=\"text-align: right;\">\n",
       "      <th></th>\n",
       "      <th>tailnum</th>\n",
       "      <th>year</th>\n",
       "      <th>type</th>\n",
       "      <th>manufacturer</th>\n",
       "      <th>model</th>\n",
       "      <th>engines</th>\n",
       "      <th>seats</th>\n",
       "      <th>speed</th>\n",
       "      <th>engine</th>\n",
       "    </tr>\n",
       "  </thead>\n",
       "  <tbody>\n",
       "    <tr>\n",
       "      <th>0</th>\n",
       "      <td>N10156</td>\n",
       "      <td>2004.0</td>\n",
       "      <td>Fixed wing multi engine</td>\n",
       "      <td>EMBRAER</td>\n",
       "      <td>EMB-145XR</td>\n",
       "      <td>2</td>\n",
       "      <td>55</td>\n",
       "      <td>NaN</td>\n",
       "      <td>Turbo-fan</td>\n",
       "    </tr>\n",
       "    <tr>\n",
       "      <th>1</th>\n",
       "      <td>N102UW</td>\n",
       "      <td>1998.0</td>\n",
       "      <td>Fixed wing multi engine</td>\n",
       "      <td>AIRBUS INDUSTRIE</td>\n",
       "      <td>A320-214</td>\n",
       "      <td>2</td>\n",
       "      <td>182</td>\n",
       "      <td>NaN</td>\n",
       "      <td>Turbo-fan</td>\n",
       "    </tr>\n",
       "    <tr>\n",
       "      <th>2</th>\n",
       "      <td>N103US</td>\n",
       "      <td>1999.0</td>\n",
       "      <td>Fixed wing multi engine</td>\n",
       "      <td>AIRBUS INDUSTRIE</td>\n",
       "      <td>A320-214</td>\n",
       "      <td>2</td>\n",
       "      <td>182</td>\n",
       "      <td>NaN</td>\n",
       "      <td>Turbo-fan</td>\n",
       "    </tr>\n",
       "    <tr>\n",
       "      <th>3</th>\n",
       "      <td>N104UW</td>\n",
       "      <td>1999.0</td>\n",
       "      <td>Fixed wing multi engine</td>\n",
       "      <td>AIRBUS INDUSTRIE</td>\n",
       "      <td>A320-214</td>\n",
       "      <td>2</td>\n",
       "      <td>182</td>\n",
       "      <td>NaN</td>\n",
       "      <td>Turbo-fan</td>\n",
       "    </tr>\n",
       "    <tr>\n",
       "      <th>4</th>\n",
       "      <td>N10575</td>\n",
       "      <td>2002.0</td>\n",
       "      <td>Fixed wing multi engine</td>\n",
       "      <td>EMBRAER</td>\n",
       "      <td>EMB-145LR</td>\n",
       "      <td>2</td>\n",
       "      <td>55</td>\n",
       "      <td>NaN</td>\n",
       "      <td>Turbo-fan</td>\n",
       "    </tr>\n",
       "  </tbody>\n",
       "</table>\n",
       "</div>"
      ],
      "text/plain": [
       "  tailnum    year                     type      manufacturer      model  \\\n",
       "0  N10156  2004.0  Fixed wing multi engine           EMBRAER  EMB-145XR   \n",
       "1  N102UW  1998.0  Fixed wing multi engine  AIRBUS INDUSTRIE   A320-214   \n",
       "2  N103US  1999.0  Fixed wing multi engine  AIRBUS INDUSTRIE   A320-214   \n",
       "3  N104UW  1999.0  Fixed wing multi engine  AIRBUS INDUSTRIE   A320-214   \n",
       "4  N10575  2002.0  Fixed wing multi engine           EMBRAER  EMB-145LR   \n",
       "\n",
       "   engines  seats  speed     engine  \n",
       "0        2     55    NaN  Turbo-fan  \n",
       "1        2    182    NaN  Turbo-fan  \n",
       "2        2    182    NaN  Turbo-fan  \n",
       "3        2    182    NaN  Turbo-fan  \n",
       "4        2     55    NaN  Turbo-fan  "
      ]
     },
     "execution_count": 20,
     "metadata": {},
     "output_type": "execute_result"
    }
   ],
   "source": [
    "print('shape: ',planes.shape)\n",
    "print('-' * 20)\n",
    "print(planes.apply(pd.Series.nunique))\n",
    "planes.head()"
   ]
  },
  {
   "cell_type": "code",
   "execution_count": 21,
   "metadata": {},
   "outputs": [
    {
     "name": "stdout",
     "output_type": "stream",
     "text": [
      "merged shape:  (10000, 27)\n"
     ]
    },
    {
     "data": {
      "text/html": [
       "<div>\n",
       "<style scoped>\n",
       "    .dataframe tbody tr th:only-of-type {\n",
       "        vertical-align: middle;\n",
       "    }\n",
       "\n",
       "    .dataframe tbody tr th {\n",
       "        vertical-align: top;\n",
       "    }\n",
       "\n",
       "    .dataframe thead th {\n",
       "        text-align: right;\n",
       "    }\n",
       "</style>\n",
       "<table border=\"1\" class=\"dataframe\">\n",
       "  <thead>\n",
       "    <tr style=\"text-align: right;\">\n",
       "      <th></th>\n",
       "      <th>year_x</th>\n",
       "      <th>month</th>\n",
       "      <th>day</th>\n",
       "      <th>dep_time</th>\n",
       "      <th>sched_dep_time</th>\n",
       "      <th>dep_delay</th>\n",
       "      <th>arr_time</th>\n",
       "      <th>sched_arr_time</th>\n",
       "      <th>arr_delay</th>\n",
       "      <th>carrier</th>\n",
       "      <th>...</th>\n",
       "      <th>minute</th>\n",
       "      <th>time_hour</th>\n",
       "      <th>year_y</th>\n",
       "      <th>type</th>\n",
       "      <th>manufacturer</th>\n",
       "      <th>model</th>\n",
       "      <th>engines</th>\n",
       "      <th>seats</th>\n",
       "      <th>speed</th>\n",
       "      <th>engine</th>\n",
       "    </tr>\n",
       "  </thead>\n",
       "  <tbody>\n",
       "    <tr>\n",
       "      <th>0</th>\n",
       "      <td>2013</td>\n",
       "      <td>1</td>\n",
       "      <td>1</td>\n",
       "      <td>517.0</td>\n",
       "      <td>515</td>\n",
       "      <td>2.0</td>\n",
       "      <td>830.0</td>\n",
       "      <td>819</td>\n",
       "      <td>11.0</td>\n",
       "      <td>UA</td>\n",
       "      <td>...</td>\n",
       "      <td>15</td>\n",
       "      <td>2013-01-01T10:00:00Z</td>\n",
       "      <td>1999.0</td>\n",
       "      <td>Fixed wing multi engine</td>\n",
       "      <td>BOEING</td>\n",
       "      <td>737-824</td>\n",
       "      <td>2.0</td>\n",
       "      <td>149.0</td>\n",
       "      <td>NaN</td>\n",
       "      <td>Turbo-fan</td>\n",
       "    </tr>\n",
       "    <tr>\n",
       "      <th>1</th>\n",
       "      <td>2013</td>\n",
       "      <td>1</td>\n",
       "      <td>1</td>\n",
       "      <td>635.0</td>\n",
       "      <td>635</td>\n",
       "      <td>0.0</td>\n",
       "      <td>1028.0</td>\n",
       "      <td>940</td>\n",
       "      <td>48.0</td>\n",
       "      <td>AA</td>\n",
       "      <td>...</td>\n",
       "      <td>35</td>\n",
       "      <td>2013-01-01T11:00:00Z</td>\n",
       "      <td>NaN</td>\n",
       "      <td>NaN</td>\n",
       "      <td>NaN</td>\n",
       "      <td>NaN</td>\n",
       "      <td>NaN</td>\n",
       "      <td>NaN</td>\n",
       "      <td>NaN</td>\n",
       "      <td>NaN</td>\n",
       "    </tr>\n",
       "    <tr>\n",
       "      <th>2</th>\n",
       "      <td>2013</td>\n",
       "      <td>1</td>\n",
       "      <td>1</td>\n",
       "      <td>732.0</td>\n",
       "      <td>645</td>\n",
       "      <td>47.0</td>\n",
       "      <td>1011.0</td>\n",
       "      <td>941</td>\n",
       "      <td>30.0</td>\n",
       "      <td>UA</td>\n",
       "      <td>...</td>\n",
       "      <td>45</td>\n",
       "      <td>2013-01-01T11:00:00Z</td>\n",
       "      <td>2012.0</td>\n",
       "      <td>Fixed wing multi engine</td>\n",
       "      <td>BOEING</td>\n",
       "      <td>737-924ER</td>\n",
       "      <td>2.0</td>\n",
       "      <td>191.0</td>\n",
       "      <td>NaN</td>\n",
       "      <td>Turbo-fan</td>\n",
       "    </tr>\n",
       "    <tr>\n",
       "      <th>3</th>\n",
       "      <td>2013</td>\n",
       "      <td>1</td>\n",
       "      <td>1</td>\n",
       "      <td>805.0</td>\n",
       "      <td>805</td>\n",
       "      <td>0.0</td>\n",
       "      <td>1015.0</td>\n",
       "      <td>1005</td>\n",
       "      <td>10.0</td>\n",
       "      <td>B6</td>\n",
       "      <td>...</td>\n",
       "      <td>5</td>\n",
       "      <td>2013-01-01T13:00:00Z</td>\n",
       "      <td>2007.0</td>\n",
       "      <td>Fixed wing multi engine</td>\n",
       "      <td>EMBRAER</td>\n",
       "      <td>ERJ 190-100 IGW</td>\n",
       "      <td>2.0</td>\n",
       "      <td>20.0</td>\n",
       "      <td>NaN</td>\n",
       "      <td>Turbo-fan</td>\n",
       "    </tr>\n",
       "    <tr>\n",
       "      <th>4</th>\n",
       "      <td>2013</td>\n",
       "      <td>1</td>\n",
       "      <td>1</td>\n",
       "      <td>824.0</td>\n",
       "      <td>830</td>\n",
       "      <td>-6.0</td>\n",
       "      <td>1027.0</td>\n",
       "      <td>1025</td>\n",
       "      <td>2.0</td>\n",
       "      <td>AA</td>\n",
       "      <td>...</td>\n",
       "      <td>30</td>\n",
       "      <td>2013-01-01T13:00:00Z</td>\n",
       "      <td>1991.0</td>\n",
       "      <td>Fixed wing multi engine</td>\n",
       "      <td>MCDONNELL DOUGLAS</td>\n",
       "      <td>DC-9-82(MD-82)</td>\n",
       "      <td>2.0</td>\n",
       "      <td>172.0</td>\n",
       "      <td>NaN</td>\n",
       "      <td>Turbo-fan</td>\n",
       "    </tr>\n",
       "  </tbody>\n",
       "</table>\n",
       "<p>5 rows × 27 columns</p>\n",
       "</div>"
      ],
      "text/plain": [
       "   year_x  month  day  dep_time  sched_dep_time  dep_delay  arr_time  \\\n",
       "0    2013      1    1     517.0             515        2.0     830.0   \n",
       "1    2013      1    1     635.0             635        0.0    1028.0   \n",
       "2    2013      1    1     732.0             645       47.0    1011.0   \n",
       "3    2013      1    1     805.0             805        0.0    1015.0   \n",
       "4    2013      1    1     824.0             830       -6.0    1027.0   \n",
       "\n",
       "   sched_arr_time  arr_delay carrier  ...  minute             time_hour  \\\n",
       "0             819       11.0      UA  ...      15  2013-01-01T10:00:00Z   \n",
       "1             940       48.0      AA  ...      35  2013-01-01T11:00:00Z   \n",
       "2             941       30.0      UA  ...      45  2013-01-01T11:00:00Z   \n",
       "3            1005       10.0      B6  ...       5  2013-01-01T13:00:00Z   \n",
       "4            1025        2.0      AA  ...      30  2013-01-01T13:00:00Z   \n",
       "\n",
       "   year_y                     type       manufacturer            model  \\\n",
       "0  1999.0  Fixed wing multi engine             BOEING          737-824   \n",
       "1     NaN                      NaN                NaN              NaN   \n",
       "2  2012.0  Fixed wing multi engine             BOEING        737-924ER   \n",
       "3  2007.0  Fixed wing multi engine            EMBRAER  ERJ 190-100 IGW   \n",
       "4  1991.0  Fixed wing multi engine  MCDONNELL DOUGLAS   DC-9-82(MD-82)   \n",
       "\n",
       "   engines  seats speed     engine  \n",
       "0      2.0  149.0   NaN  Turbo-fan  \n",
       "1      NaN    NaN   NaN        NaN  \n",
       "2      2.0  191.0   NaN  Turbo-fan  \n",
       "3      2.0   20.0   NaN  Turbo-fan  \n",
       "4      2.0  172.0   NaN  Turbo-fan  \n",
       "\n",
       "[5 rows x 27 columns]"
      ]
     },
     "execution_count": 21,
     "metadata": {},
     "output_type": "execute_result"
    }
   ],
   "source": [
    "merged = pd.merge(flights, planes, how = 'left', left_on='tailnum', right_on = 'tailnum')\n",
    "print('merged shape: ', merged.shape)\n",
    "merged.head()"
   ]
  },
  {
   "cell_type": "code",
   "execution_count": 23,
   "metadata": {},
   "outputs": [
    {
     "name": "stdout",
     "output_type": "stream",
     "text": [
      "flight on time:  2462\n"
     ]
    },
    {
     "data": {
      "image/png": "[encoded data removed]",
      "text/plain": [
       "<Figure size 432x288 with 1 Axes>"
      ]
     },
     "metadata": {
      "needs_background": "light"
     },
     "output_type": "display_data"
    }
   ],
   "source": [
    "merged['delayed'] = np.where(merged.dep_delay > 10, 1,0)\n",
    "print('flight on time: ',sum(merged['delayed']))\n",
    "\n",
    "top_producers = merged.groupby('manufacturer')['year_x'].count()\n",
    "pd.Series.sort_values(top_producers, ascending=False, inplace = True)\n",
    "top_producers.plot(kind = 'bar', title = 'The Most Flights by Manufacturer')\n",
    "plt.show()"
   ]
  },
  {
   "cell_type": "code",
   "execution_count": 24,
   "metadata": {},
   "outputs": [
    {
     "data": {
      "image/png": "[encoded data removed]",
      "text/plain": [
       "<Figure size 432x288 with 1 Axes>"
      ]
     },
     "metadata": {
      "needs_background": "light"
     },
     "output_type": "display_data"
    }
   ],
   "source": [
    "top_hours = merged.groupby('manufacturer')['air_time'].sum()\n",
    "pd.Series.sort_values(top_hours, ascending=False, inplace = True)\n",
    "top_hours.plot(kind = 'bar', title = 'The Most Hours by Manufacturer')\n",
    "plt.show()"
   ]
  },
  {
   "cell_type": "code",
   "execution_count": 25,
   "metadata": {},
   "outputs": [
    {
     "data": {
      "image/png": "[encoded data removed]",
      "text/plain": [
       "<Figure size 1296x360 with 1 Axes>"
      ]
     },
     "metadata": {
      "needs_background": "light"
     },
     "output_type": "display_data"
    }
   ],
   "source": [
    "top_arr_delays = merged.groupby('model')['delayed'].sum()\n",
    "pd.Series.sort_values(top_arr_delays, ascending=False, inplace = True)\n",
    "top_arr_delays.plot(kind = 'bar', title = 'The Most # of delays by model', figsize = [18,5])\n",
    "plt.show()"
   ]
  },
  {
   "cell_type": "markdown",
   "metadata": {},
   "source": [
    "# Unit 2. Data preprocessing and visualization"
   ]
  },
  {
   "cell_type": "code",
   "execution_count": 26,
   "metadata": {},
   "outputs": [],
   "source": [
    "%matplotlib inline\n",
    "import seaborn as sns\n",
    "import warnings\n",
    "warnings.filterwarnings(\"ignore\")"
   ]
  },
  {
   "cell_type": "code",
   "execution_count": 27,
   "metadata": {},
   "outputs": [
    {
     "data": {
      "text/html": [
       "<div>\n",
       "<style scoped>\n",
       "    .dataframe tbody tr th:only-of-type {\n",
       "        vertical-align: middle;\n",
       "    }\n",
       "\n",
       "    .dataframe tbody tr th {\n",
       "        vertical-align: top;\n",
       "    }\n",
       "\n",
       "    .dataframe thead th {\n",
       "        text-align: right;\n",
       "    }\n",
       "</style>\n",
       "<table border=\"1\" class=\"dataframe\">\n",
       "  <thead>\n",
       "    <tr style=\"text-align: right;\">\n",
       "      <th></th>\n",
       "      <th>year</th>\n",
       "      <th>month</th>\n",
       "      <th>day</th>\n",
       "      <th>dep_time</th>\n",
       "      <th>sched_dep_time</th>\n",
       "      <th>dep_delay</th>\n",
       "      <th>arr_time</th>\n",
       "      <th>sched_arr_time</th>\n",
       "      <th>arr_delay</th>\n",
       "      <th>carrier</th>\n",
       "      <th>flight</th>\n",
       "      <th>tailnum</th>\n",
       "      <th>origin</th>\n",
       "      <th>dest</th>\n",
       "      <th>air_time</th>\n",
       "      <th>distance</th>\n",
       "      <th>hour</th>\n",
       "      <th>minute</th>\n",
       "      <th>time_hour</th>\n",
       "    </tr>\n",
       "  </thead>\n",
       "  <tbody>\n",
       "    <tr>\n",
       "      <th>0</th>\n",
       "      <td>2013</td>\n",
       "      <td>1</td>\n",
       "      <td>1</td>\n",
       "      <td>517.0</td>\n",
       "      <td>515</td>\n",
       "      <td>2.0</td>\n",
       "      <td>830.0</td>\n",
       "      <td>819</td>\n",
       "      <td>11.0</td>\n",
       "      <td>UA</td>\n",
       "      <td>1545</td>\n",
       "      <td>N14228</td>\n",
       "      <td>EWR</td>\n",
       "      <td>IAH</td>\n",
       "      <td>227.0</td>\n",
       "      <td>1400</td>\n",
       "      <td>5</td>\n",
       "      <td>15</td>\n",
       "      <td>2013-01-01T10:00:00Z</td>\n",
       "    </tr>\n",
       "    <tr>\n",
       "      <th>1</th>\n",
       "      <td>2013</td>\n",
       "      <td>1</td>\n",
       "      <td>1</td>\n",
       "      <td>635.0</td>\n",
       "      <td>635</td>\n",
       "      <td>0.0</td>\n",
       "      <td>1028.0</td>\n",
       "      <td>940</td>\n",
       "      <td>48.0</td>\n",
       "      <td>AA</td>\n",
       "      <td>711</td>\n",
       "      <td>N3GKAA</td>\n",
       "      <td>LGA</td>\n",
       "      <td>DFW</td>\n",
       "      <td>248.0</td>\n",
       "      <td>1389</td>\n",
       "      <td>6</td>\n",
       "      <td>35</td>\n",
       "      <td>2013-01-01T11:00:00Z</td>\n",
       "    </tr>\n",
       "    <tr>\n",
       "      <th>2</th>\n",
       "      <td>2013</td>\n",
       "      <td>1</td>\n",
       "      <td>1</td>\n",
       "      <td>732.0</td>\n",
       "      <td>645</td>\n",
       "      <td>47.0</td>\n",
       "      <td>1011.0</td>\n",
       "      <td>941</td>\n",
       "      <td>30.0</td>\n",
       "      <td>UA</td>\n",
       "      <td>1111</td>\n",
       "      <td>N37456</td>\n",
       "      <td>EWR</td>\n",
       "      <td>MCO</td>\n",
       "      <td>145.0</td>\n",
       "      <td>937</td>\n",
       "      <td>6</td>\n",
       "      <td>45</td>\n",
       "      <td>2013-01-01T11:00:00Z</td>\n",
       "    </tr>\n",
       "    <tr>\n",
       "      <th>3</th>\n",
       "      <td>2013</td>\n",
       "      <td>1</td>\n",
       "      <td>1</td>\n",
       "      <td>805.0</td>\n",
       "      <td>805</td>\n",
       "      <td>0.0</td>\n",
       "      <td>1015.0</td>\n",
       "      <td>1005</td>\n",
       "      <td>10.0</td>\n",
       "      <td>B6</td>\n",
       "      <td>219</td>\n",
       "      <td>N273JB</td>\n",
       "      <td>JFK</td>\n",
       "      <td>CLT</td>\n",
       "      <td>98.0</td>\n",
       "      <td>541</td>\n",
       "      <td>8</td>\n",
       "      <td>5</td>\n",
       "      <td>2013-01-01T13:00:00Z</td>\n",
       "    </tr>\n",
       "    <tr>\n",
       "      <th>4</th>\n",
       "      <td>2013</td>\n",
       "      <td>1</td>\n",
       "      <td>1</td>\n",
       "      <td>824.0</td>\n",
       "      <td>830</td>\n",
       "      <td>-6.0</td>\n",
       "      <td>1027.0</td>\n",
       "      <td>1025</td>\n",
       "      <td>2.0</td>\n",
       "      <td>AA</td>\n",
       "      <td>1855</td>\n",
       "      <td>N573AA</td>\n",
       "      <td>LGA</td>\n",
       "      <td>STL</td>\n",
       "      <td>169.0</td>\n",
       "      <td>888</td>\n",
       "      <td>8</td>\n",
       "      <td>30</td>\n",
       "      <td>2013-01-01T13:00:00Z</td>\n",
       "    </tr>\n",
       "  </tbody>\n",
       "</table>\n",
       "</div>"
      ],
      "text/plain": [
       "   year  month  day  dep_time  sched_dep_time  dep_delay  arr_time  \\\n",
       "0  2013      1    1     517.0             515        2.0     830.0   \n",
       "1  2013      1    1     635.0             635        0.0    1028.0   \n",
       "2  2013      1    1     732.0             645       47.0    1011.0   \n",
       "3  2013      1    1     805.0             805        0.0    1015.0   \n",
       "4  2013      1    1     824.0             830       -6.0    1027.0   \n",
       "\n",
       "   sched_arr_time  arr_delay carrier  flight tailnum origin dest  air_time  \\\n",
       "0             819       11.0      UA    1545  N14228    EWR  IAH     227.0   \n",
       "1             940       48.0      AA     711  N3GKAA    LGA  DFW     248.0   \n",
       "2             941       30.0      UA    1111  N37456    EWR  MCO     145.0   \n",
       "3            1005       10.0      B6     219  N273JB    JFK  CLT      98.0   \n",
       "4            1025        2.0      AA    1855  N573AA    LGA  STL     169.0   \n",
       "\n",
       "   distance  hour  minute             time_hour  \n",
       "0      1400     5      15  2013-01-01T10:00:00Z  \n",
       "1      1389     6      35  2013-01-01T11:00:00Z  \n",
       "2       937     6      45  2013-01-01T11:00:00Z  \n",
       "3       541     8       5  2013-01-01T13:00:00Z  \n",
       "4       888     8      30  2013-01-01T13:00:00Z  "
      ]
     },
     "execution_count": 27,
     "metadata": {},
     "output_type": "execute_result"
    }
   ],
   "source": [
    "flights.head()"
   ]
  },
  {
   "cell_type": "code",
   "execution_count": 310,
   "metadata": {},
   "outputs": [
    {
     "name": "stdout",
     "output_type": "stream",
     "text": [
      "(569, 30)\n",
      "(569,)\n"
     ]
    }
   ],
   "source": [
    "from sklearn.datasets import load_breast_cancer\n",
    "from sklearn.preprocessing import StandardScaler, LabelEncoder, OrdinalEncoder\n",
    "\n",
    "\n",
    "cancer = load_breast_cancer()\n",
    "data = cancer.data\n",
    "target = cancer.target\n",
    "\n",
    "print(data.shape)\n",
    "print(target.shape)"
   ]
  },
  {
   "cell_type": "code",
   "execution_count": 63,
   "metadata": {},
   "outputs": [],
   "source": [
    "scalar = StandardScaler()\n",
    "scalar.fit(data)\n",
    "standard_data = scalar.transform(data)"
   ]
  },
  {
   "cell_type": "code",
   "execution_count": 64,
   "metadata": {},
   "outputs": [
    {
     "data": {
      "image/png": "[encoded data removed]",
      "text/plain": [
       "<Figure size 432x288 with 1 Axes>"
      ]
     },
     "metadata": {
      "needs_background": "light"
     },
     "output_type": "display_data"
    }
   ],
   "source": [
    "x_one_scaled = standard_data[:,0]\n",
    "x_two_scaled = standard_data[:,14]\n",
    "\n",
    "sns.distplot(x_one_scaled);\n",
    "sns.distplot(x_two_scaled);"
   ]
  },
  {
   "cell_type": "markdown",
   "metadata": {},
   "source": [
    "\n",
    "### Should I Scale my Data?\n",
    "​\n",
    "This is actually somewhat controversial. There are pros and cons to scaling the data:\n",
    "​\n",
    "1. Many models based on distance (we will see these in future lectures) rely on data lying in a similar range. \n",
    "2. Many optimization techniques tend to work well with scaled data (we will talk more about this in the advanced week)\n",
    "3. When we scale our data we are removing some interpretability from our models. Let's say we are fitting a linear regression from $X$ to $y$. If we did not scale we could say a feature weight of $\\beta_i$ means an increase in $x_i$ of one unit corresponded to an increaese in our prediction by $\\beta_i$. If we scale our data then this interpretation is now more complex, each feature went through a transformation.\n",
    "​\n",
    "In machine learning more often than not people tend to scale their data, even if it's not necessary or correct. In reality this is a judgement call, you need to ask what do you need out of your model. You also need to ask what do the underlying features represent.  "
   ]
  },
  {
   "cell_type": "markdown",
   "metadata": {},
   "source": [
    "# Unit 3. Regression"
   ]
  },
  {
   "cell_type": "code",
   "execution_count": 284,
   "metadata": {},
   "outputs": [
    {
     "data": {
      "text/plain": [
       "<seaborn.axisgrid.FacetGrid at 0x1ae139a55c0>"
      ]
     },
     "execution_count": 284,
     "metadata": {},
     "output_type": "execute_result"
    },
    {
     "data": {
      "image/png": "[encoded data removed]",
      "text/plain": [
       "<Figure size 360x360 with 1 Axes>"
      ]
     },
     "metadata": {
      "needs_background": "light"
     },
     "output_type": "display_data"
    }
   ],
   "source": [
    "x = np.random.normal(size = 100)\n",
    "y = x* 3 + np.random.normal(scale = 3, size = 100) + 2\n",
    "\n",
    "sns.lmplot('x', 'y', data=pd.DataFrame({'x':x, 'y':y}))"
   ]
  },
  {
   "cell_type": "code",
   "execution_count": 285,
   "metadata": {},
   "outputs": [
    {
     "data": {
      "image/png": "[encoded data removed]",
      "text/plain": [
       "<Figure size 432x288 with 1 Axes>"
      ]
     },
     "metadata": {
      "needs_background": "light"
     },
     "output_type": "display_data"
    }
   ],
   "source": [
    "import sklearn as sk\n",
    "from sklearn import model_selection, metrics, linear_model, datasets, feature_selection, preprocessing\n",
    "\n",
    "x = np.random.normal(size = 100)\n",
    "y = 3 * x + np.random.normal(scale = 3, size = 100) + 2\n",
    "\n",
    "lm = sk.linear_model.LinearRegression()\n",
    "x = x.reshape(-1,1)\n",
    "lm.fit(x,y)\n",
    "\n",
    "bias = lm.intercept_\n",
    "coef = lm.coef_[0]\n",
    "\n",
    "plt.scatter(x,y, color ='red')\n",
    "Y_model = x*coef + coef\n",
    "plt.plot(x, Y_model, color='blue')\n",
    "plt.show()"
   ]
  },
  {
   "cell_type": "code",
   "execution_count": 286,
   "metadata": {},
   "outputs": [
    {
     "name": "stdout",
     "output_type": "stream",
     "text": [
      "R2 is: 0.57\n"
     ]
    }
   ],
   "source": [
    "print('R2 is: %.2f' % lm.score(x,y))"
   ]
  },
  {
   "cell_type": "code",
   "execution_count": 287,
   "metadata": {},
   "outputs": [
    {
     "data": {
      "text/html": [
       "<div>\n",
       "<style scoped>\n",
       "    .dataframe tbody tr th:only-of-type {\n",
       "        vertical-align: middle;\n",
       "    }\n",
       "\n",
       "    .dataframe tbody tr th {\n",
       "        vertical-align: top;\n",
       "    }\n",
       "\n",
       "    .dataframe thead th {\n",
       "        text-align: right;\n",
       "    }\n",
       "</style>\n",
       "<table border=\"1\" class=\"dataframe\">\n",
       "  <thead>\n",
       "    <tr style=\"text-align: right;\">\n",
       "      <th></th>\n",
       "      <th>id</th>\n",
       "      <th>date</th>\n",
       "      <th>price</th>\n",
       "      <th>bedrooms</th>\n",
       "      <th>bathrooms</th>\n",
       "      <th>sqft_living</th>\n",
       "      <th>sqft_lot</th>\n",
       "      <th>floors</th>\n",
       "      <th>waterfront</th>\n",
       "      <th>view</th>\n",
       "      <th>...</th>\n",
       "      <th>grade</th>\n",
       "      <th>sqft_above</th>\n",
       "      <th>sqft_basement</th>\n",
       "      <th>yr_built</th>\n",
       "      <th>yr_renovated</th>\n",
       "      <th>zipcode</th>\n",
       "      <th>lat</th>\n",
       "      <th>long</th>\n",
       "      <th>sqft_living15</th>\n",
       "      <th>sqft_lot15</th>\n",
       "    </tr>\n",
       "  </thead>\n",
       "  <tbody>\n",
       "    <tr>\n",
       "      <th>0</th>\n",
       "      <td>7129300520</td>\n",
       "      <td>20141013T000000</td>\n",
       "      <td>221900.0</td>\n",
       "      <td>3</td>\n",
       "      <td>1.00</td>\n",
       "      <td>1180</td>\n",
       "      <td>5650</td>\n",
       "      <td>1.0</td>\n",
       "      <td>0</td>\n",
       "      <td>0</td>\n",
       "      <td>...</td>\n",
       "      <td>7</td>\n",
       "      <td>1180</td>\n",
       "      <td>0</td>\n",
       "      <td>1955</td>\n",
       "      <td>0</td>\n",
       "      <td>98178</td>\n",
       "      <td>47.5112</td>\n",
       "      <td>-122.257</td>\n",
       "      <td>1340</td>\n",
       "      <td>5650</td>\n",
       "    </tr>\n",
       "    <tr>\n",
       "      <th>1</th>\n",
       "      <td>6414100192</td>\n",
       "      <td>20141209T000000</td>\n",
       "      <td>538000.0</td>\n",
       "      <td>3</td>\n",
       "      <td>2.25</td>\n",
       "      <td>2570</td>\n",
       "      <td>7242</td>\n",
       "      <td>2.0</td>\n",
       "      <td>0</td>\n",
       "      <td>0</td>\n",
       "      <td>...</td>\n",
       "      <td>7</td>\n",
       "      <td>2170</td>\n",
       "      <td>400</td>\n",
       "      <td>1951</td>\n",
       "      <td>1991</td>\n",
       "      <td>98125</td>\n",
       "      <td>47.7210</td>\n",
       "      <td>-122.319</td>\n",
       "      <td>1690</td>\n",
       "      <td>7639</td>\n",
       "    </tr>\n",
       "    <tr>\n",
       "      <th>2</th>\n",
       "      <td>5631500400</td>\n",
       "      <td>20150225T000000</td>\n",
       "      <td>180000.0</td>\n",
       "      <td>2</td>\n",
       "      <td>1.00</td>\n",
       "      <td>770</td>\n",
       "      <td>10000</td>\n",
       "      <td>1.0</td>\n",
       "      <td>0</td>\n",
       "      <td>0</td>\n",
       "      <td>...</td>\n",
       "      <td>6</td>\n",
       "      <td>770</td>\n",
       "      <td>0</td>\n",
       "      <td>1933</td>\n",
       "      <td>0</td>\n",
       "      <td>98028</td>\n",
       "      <td>47.7379</td>\n",
       "      <td>-122.233</td>\n",
       "      <td>2720</td>\n",
       "      <td>8062</td>\n",
       "    </tr>\n",
       "    <tr>\n",
       "      <th>3</th>\n",
       "      <td>2487200875</td>\n",
       "      <td>20141209T000000</td>\n",
       "      <td>604000.0</td>\n",
       "      <td>4</td>\n",
       "      <td>3.00</td>\n",
       "      <td>1960</td>\n",
       "      <td>5000</td>\n",
       "      <td>1.0</td>\n",
       "      <td>0</td>\n",
       "      <td>0</td>\n",
       "      <td>...</td>\n",
       "      <td>7</td>\n",
       "      <td>1050</td>\n",
       "      <td>910</td>\n",
       "      <td>1965</td>\n",
       "      <td>0</td>\n",
       "      <td>98136</td>\n",
       "      <td>47.5208</td>\n",
       "      <td>-122.393</td>\n",
       "      <td>1360</td>\n",
       "      <td>5000</td>\n",
       "    </tr>\n",
       "    <tr>\n",
       "      <th>4</th>\n",
       "      <td>1954400510</td>\n",
       "      <td>20150218T000000</td>\n",
       "      <td>510000.0</td>\n",
       "      <td>3</td>\n",
       "      <td>2.00</td>\n",
       "      <td>1680</td>\n",
       "      <td>8080</td>\n",
       "      <td>1.0</td>\n",
       "      <td>0</td>\n",
       "      <td>0</td>\n",
       "      <td>...</td>\n",
       "      <td>8</td>\n",
       "      <td>1680</td>\n",
       "      <td>0</td>\n",
       "      <td>1987</td>\n",
       "      <td>0</td>\n",
       "      <td>98074</td>\n",
       "      <td>47.6168</td>\n",
       "      <td>-122.045</td>\n",
       "      <td>1800</td>\n",
       "      <td>7503</td>\n",
       "    </tr>\n",
       "  </tbody>\n",
       "</table>\n",
       "<p>5 rows × 21 columns</p>\n",
       "</div>"
      ],
      "text/plain": [
       "           id             date     price  bedrooms  bathrooms  sqft_living  \\\n",
       "0  7129300520  20141013T000000  221900.0         3       1.00         1180   \n",
       "1  6414100192  20141209T000000  538000.0         3       2.25         2570   \n",
       "2  5631500400  20150225T000000  180000.0         2       1.00          770   \n",
       "3  2487200875  20141209T000000  604000.0         4       3.00         1960   \n",
       "4  1954400510  20150218T000000  510000.0         3       2.00         1680   \n",
       "\n",
       "   sqft_lot  floors  waterfront  view  ...  grade  sqft_above  sqft_basement  \\\n",
       "0      5650     1.0           0     0  ...      7        1180              0   \n",
       "1      7242     2.0           0     0  ...      7        2170            400   \n",
       "2     10000     1.0           0     0  ...      6         770              0   \n",
       "3      5000     1.0           0     0  ...      7        1050            910   \n",
       "4      8080     1.0           0     0  ...      8        1680              0   \n",
       "\n",
       "   yr_built  yr_renovated  zipcode      lat     long  sqft_living15  \\\n",
       "0      1955             0    98178  47.5112 -122.257           1340   \n",
       "1      1951          1991    98125  47.7210 -122.319           1690   \n",
       "2      1933             0    98028  47.7379 -122.233           2720   \n",
       "3      1965             0    98136  47.5208 -122.393           1360   \n",
       "4      1987             0    98074  47.6168 -122.045           1800   \n",
       "\n",
       "   sqft_lot15  \n",
       "0        5650  \n",
       "1        7639  \n",
       "2        8062  \n",
       "3        5000  \n",
       "4        7503  \n",
       "\n",
       "[5 rows x 21 columns]"
      ]
     },
     "execution_count": 287,
     "metadata": {},
     "output_type": "execute_result"
    }
   ],
   "source": [
    "df = pd.read_csv(r'datasets\\brainstation\\house_data.csv')\n",
    "df.head()"
   ]
  },
  {
   "cell_type": "code",
   "execution_count": 288,
   "metadata": {},
   "outputs": [
    {
     "name": "stdout",
     "output_type": "stream",
     "text": [
      "Index(['id', 'date', 'price', 'bedrooms', 'bathrooms', 'sqft_living',\n",
      "       'sqft_lot', 'floors', 'waterfront', 'view', 'condition', 'grade',\n",
      "       'sqft_above', 'sqft_basement', 'yr_built', 'yr_renovated', 'zipcode',\n",
      "       'lat', 'long', 'sqft_living15', 'sqft_lot15'],\n",
      "      dtype='object')\n"
     ]
    }
   ],
   "source": [
    "features_to_include = ['bedrooms',\n",
    "                      'sqft_living',\n",
    "                      'sqft_lot',\n",
    "                      'floors',\n",
    "                      'waterfront',\n",
    "                      'view',\n",
    "                      'condition',\n",
    "                      'grade',\n",
    "                      'sqft_basement',\n",
    "                      'yr_built',\n",
    "                      'yr_renovated',\n",
    "                      'sqft_living15',\n",
    "                      'sqft_lot15']\n",
    "print(df.columns)"
   ]
  },
  {
   "cell_type": "code",
   "execution_count": 289,
   "metadata": {},
   "outputs": [],
   "source": [
    "feature_importances = feature_selection.mutual_info_regression(df[features_to_include], df.price)"
   ]
  },
  {
   "cell_type": "code",
   "execution_count": 290,
   "metadata": {},
   "outputs": [],
   "source": [
    "feat_importance_df = pd.DataFrame({'feature': features_to_include, 'importance':feature_importances}).sort_values(by ='importance', ascending=False)"
   ]
  },
  {
   "cell_type": "code",
   "execution_count": 291,
   "metadata": {},
   "outputs": [
    {
     "name": "stdout",
     "output_type": "stream",
     "text": [
      "['sqft_living', 'grade', 'sqft_living15', 'sqft_lot15', 'bedrooms']\n"
     ]
    }
   ],
   "source": [
    "top_feats = list(feat_importance_df['feature'][:5])\n",
    "print(top_feats)"
   ]
  },
  {
   "cell_type": "code",
   "execution_count": 292,
   "metadata": {},
   "outputs": [
    {
     "data": {
      "text/plain": [
       "LinearRegression(copy_X=True,\n",
       "         fit_intercept=       sqft_living  grade  sqft_living15  sqft_lot15  bedrooms\n",
       "0             1180      7           1340        5650         3\n",
       "1             2570      7           1690        7639         3\n",
       "2              770      6           2720        8062         2\n",
       "3             1960      7         ...7         3\n",
       "21612         1020      7           1020        1357         2\n",
       "\n",
       "[21613 rows x 5 columns],\n",
       "         n_jobs=None,\n",
       "         normalize=0         221900.0\n",
       "1         538000.0\n",
       "2         180000.0\n",
       "3         604000.0\n",
       "4         510000.0\n",
       "5        1225000.0\n",
       "6         257500.0\n",
       "7         291850.0\n",
       "8         229500.0\n",
       "9         323000.0\n",
       "10        662500.0\n",
       "11        468000.0\n",
       "12        310000.0\n",
       "13        400000.0\n",
       "14        530000.0\n",
       "15   ...\n",
       "21610     402101.0\n",
       "21611     400000.0\n",
       "21612     325000.0\n",
       "Name: price, Length: 21613, dtype: float64)"
      ]
     },
     "execution_count": 292,
     "metadata": {},
     "output_type": "execute_result"
    }
   ],
   "source": [
    "lm = sk.linear_model.LinearRegression(df[top_feats], df.price)\n",
    "lm"
   ]
  },
  {
   "cell_type": "code",
   "execution_count": 293,
   "metadata": {},
   "outputs": [
    {
     "name": "stdout",
     "output_type": "stream",
     "text": [
      "R2: 0.54\n"
     ]
    }
   ],
   "source": [
    "lm_fit = sk.linear_model.LinearRegression().fit(df[top_feats], df.price)\n",
    "lm_score = lm_fit.score(df[top_feats], df.price)\n",
    "print('R2: %.2f' % lm_score)\n",
    "\n",
    "y_pred = lm_fit.predict(df[top_feats])"
   ]
  },
  {
   "cell_type": "code",
   "execution_count": 294,
   "metadata": {},
   "outputs": [
    {
     "data": {
      "text/plain": [
       "0.5429214850898099"
      ]
     },
     "execution_count": 294,
     "metadata": {},
     "output_type": "execute_result"
    }
   ],
   "source": [
    "# Ridge with CV\n",
    "\n",
    "ridge = sk.linear_model.RidgeCV()\n",
    "cv_results = model_selection.cross_validate(ridge, df[top_feats], df.price)\n",
    "cv_results['test_score'].mean()"
   ]
  },
  {
   "cell_type": "code",
   "execution_count": 295,
   "metadata": {},
   "outputs": [
    {
     "name": "stdout",
     "output_type": "stream",
     "text": [
      "test R2: 0.5512\n",
      "test R2: 0.5403\n"
     ]
    }
   ],
   "source": [
    "# train/test split\n",
    "split = .4\n",
    "X_train, X_test, y_train, y_test   = model_selection.train_test_split(df[top_feats], df.price, train_size  = split, random_state = 42)\n",
    "\n",
    "lm = sk.linear_model.LinearRegression()\n",
    "lm.fit(X_train, y_train)\n",
    "print('test R2: %.4f' % lm.score(X_train, y_train))\n",
    "print('test R2: %.4f' % lm.score(X_test, y_test))"
   ]
  },
  {
   "cell_type": "code",
   "execution_count": 296,
   "metadata": {},
   "outputs": [
    {
     "name": "stdout",
     "output_type": "stream",
     "text": [
      "                            OLS Regression Results                            \n",
      "==============================================================================\n",
      "Dep. Variable:                  price   R-squared:                       0.551\n",
      "Model:                            OLS   Adj. R-squared:                  0.551\n",
      "Method:                 Least Squares   F-statistic:                     2122.\n",
      "Date:                Fri, 31 May 2019   Prob (F-statistic):               0.00\n",
      "Time:                        12:23:12   Log-Likelihood:            -1.1921e+05\n",
      "No. Observations:                8645   AIC:                         2.384e+05\n",
      "Df Residuals:                    8639   BIC:                         2.385e+05\n",
      "Df Model:                           5                                         \n",
      "Covariance Type:            nonrobust                                         \n",
      "=================================================================================\n",
      "                    coef    std err          t      P>|t|      [0.025      0.975]\n",
      "---------------------------------------------------------------------------------\n",
      "const         -4.358e+05   2.28e+04    -19.107      0.000   -4.81e+05   -3.91e+05\n",
      "sqft_living     206.9168      5.685     36.396      0.000     195.773     218.061\n",
      "grade          8.853e+04   3562.244     24.852      0.000    8.15e+04    9.55e+04\n",
      "sqft_living15    17.7271      5.938      2.985      0.003       6.087      29.367\n",
      "sqft_lot15       -0.6998      0.097     -7.241      0.000      -0.889      -0.510\n",
      "bedrooms      -4.783e+04   3642.215    -13.133      0.000    -5.5e+04   -4.07e+04\n",
      "==============================================================================\n",
      "Omnibus:                     4842.842   Durbin-Watson:                   2.023\n",
      "Prob(Omnibus):                  0.000   Jarque-Bera (JB):            85673.299\n",
      "Skew:                           2.311   Prob(JB):                         0.00\n",
      "Kurtosis:                      17.713   Cond. No.                     2.71e+05\n",
      "==============================================================================\n",
      "\n",
      "Warnings:\n",
      "[1] Standard Errors assume that the covariance matrix of the errors is correctly specified.\n",
      "[2] The condition number is large, 2.71e+05. This might indicate that there are\n",
      "strong multicollinearity or other numerical problems.\n"
     ]
    }
   ],
   "source": [
    "# Get all stats via stats model. eg R2 and RSS\n",
    "\n",
    "X_train_cons = sm.add_constant(X_train)\n",
    "X_test_cons = sm.add_constant(X_test)\n",
    "est = sm.OLS(y_train, X_train_cons).fit()\n",
    "print(est.summary())"
   ]
  },
  {
   "cell_type": "code",
   "execution_count": 204,
   "metadata": {},
   "outputs": [
    {
     "name": "stdout",
     "output_type": "stream",
     "text": [
      "RSS:  65306651551.97311\n"
     ]
    }
   ],
   "source": [
    "pred = est.predict(X_test_cons)\n",
    "RSS = ((y_test - pred)**2).mean()\n",
    "print('RSS: ',RSS)"
   ]
  },
  {
   "cell_type": "code",
   "execution_count": 207,
   "metadata": {},
   "outputs": [],
   "source": [
    "# save the model\n",
    "from sklearn.externals import joblib\n",
    "joblib.dump(lm, 'lm_model.pkl')\n",
    "\n",
    "# load the midel\n",
    "lm_loaded = joblib.load('lm_model.pkl')"
   ]
  },
  {
   "cell_type": "markdown",
   "metadata": {},
   "source": [
    "### Assignment"
   ]
  },
  {
   "cell_type": "code",
   "execution_count": 245,
   "metadata": {},
   "outputs": [
    {
     "data": {
      "text/html": [
       "<div>\n",
       "<style scoped>\n",
       "    .dataframe tbody tr th:only-of-type {\n",
       "        vertical-align: middle;\n",
       "    }\n",
       "\n",
       "    .dataframe tbody tr th {\n",
       "        vertical-align: top;\n",
       "    }\n",
       "\n",
       "    .dataframe thead th {\n",
       "        text-align: right;\n",
       "    }\n",
       "</style>\n",
       "<table border=\"1\" class=\"dataframe\">\n",
       "  <thead>\n",
       "    <tr style=\"text-align: right;\">\n",
       "      <th></th>\n",
       "      <th>carat</th>\n",
       "      <th>cut</th>\n",
       "      <th>color</th>\n",
       "      <th>clarity</th>\n",
       "      <th>depth</th>\n",
       "      <th>table</th>\n",
       "      <th>price</th>\n",
       "      <th>x</th>\n",
       "      <th>y</th>\n",
       "      <th>z</th>\n",
       "    </tr>\n",
       "  </thead>\n",
       "  <tbody>\n",
       "    <tr>\n",
       "      <th>0</th>\n",
       "      <td>0.23</td>\n",
       "      <td>Ideal</td>\n",
       "      <td>E</td>\n",
       "      <td>SI2</td>\n",
       "      <td>61.5</td>\n",
       "      <td>55.0</td>\n",
       "      <td>326</td>\n",
       "      <td>3.95</td>\n",
       "      <td>3.98</td>\n",
       "      <td>2.43</td>\n",
       "    </tr>\n",
       "    <tr>\n",
       "      <th>1</th>\n",
       "      <td>0.21</td>\n",
       "      <td>Premium</td>\n",
       "      <td>E</td>\n",
       "      <td>SI1</td>\n",
       "      <td>59.8</td>\n",
       "      <td>61.0</td>\n",
       "      <td>326</td>\n",
       "      <td>3.89</td>\n",
       "      <td>3.84</td>\n",
       "      <td>2.31</td>\n",
       "    </tr>\n",
       "    <tr>\n",
       "      <th>2</th>\n",
       "      <td>0.23</td>\n",
       "      <td>Good</td>\n",
       "      <td>E</td>\n",
       "      <td>VS1</td>\n",
       "      <td>56.9</td>\n",
       "      <td>65.0</td>\n",
       "      <td>327</td>\n",
       "      <td>4.05</td>\n",
       "      <td>4.07</td>\n",
       "      <td>2.31</td>\n",
       "    </tr>\n",
       "    <tr>\n",
       "      <th>3</th>\n",
       "      <td>0.29</td>\n",
       "      <td>Premium</td>\n",
       "      <td>I</td>\n",
       "      <td>VS2</td>\n",
       "      <td>62.4</td>\n",
       "      <td>58.0</td>\n",
       "      <td>334</td>\n",
       "      <td>4.20</td>\n",
       "      <td>4.23</td>\n",
       "      <td>2.63</td>\n",
       "    </tr>\n",
       "    <tr>\n",
       "      <th>4</th>\n",
       "      <td>0.31</td>\n",
       "      <td>Good</td>\n",
       "      <td>J</td>\n",
       "      <td>SI2</td>\n",
       "      <td>63.3</td>\n",
       "      <td>58.0</td>\n",
       "      <td>335</td>\n",
       "      <td>4.34</td>\n",
       "      <td>4.35</td>\n",
       "      <td>2.75</td>\n",
       "    </tr>\n",
       "  </tbody>\n",
       "</table>\n",
       "</div>"
      ],
      "text/plain": [
       "   carat      cut color clarity  depth  table  price     x     y     z\n",
       "0   0.23    Ideal     E     SI2   61.5   55.0    326  3.95  3.98  2.43\n",
       "1   0.21  Premium     E     SI1   59.8   61.0    326  3.89  3.84  2.31\n",
       "2   0.23     Good     E     VS1   56.9   65.0    327  4.05  4.07  2.31\n",
       "3   0.29  Premium     I     VS2   62.4   58.0    334  4.20  4.23  2.63\n",
       "4   0.31     Good     J     SI2   63.3   58.0    335  4.34  4.35  2.75"
      ]
     },
     "execution_count": 245,
     "metadata": {},
     "output_type": "execute_result"
    }
   ],
   "source": [
    "diamonds = pd.read_csv(r'datasets\\brainstation\\diamonds.csv')\n",
    "del diamonds['Unnamed: 0']\n",
    "diamonds.head()"
   ]
  },
  {
   "cell_type": "code",
   "execution_count": 266,
   "metadata": {},
   "outputs": [
    {
     "name": "stdout",
     "output_type": "stream",
     "text": [
      "<class 'pandas.core.frame.DataFrame'>\n",
      "RangeIndex: 53940 entries, 0 to 53939\n",
      "Data columns (total 10 columns):\n",
      "carat      53940 non-null float64\n",
      "cut        53940 non-null object\n",
      "color      53940 non-null object\n",
      "clarity    53940 non-null object\n",
      "depth      53940 non-null float64\n",
      "table      53940 non-null float64\n",
      "price      53940 non-null int64\n",
      "x          53940 non-null float64\n",
      "y          53940 non-null float64\n",
      "z          53940 non-null float64\n",
      "dtypes: float64(6), int64(1), object(3)\n",
      "memory usage: 4.1+ MB\n",
      "None\n",
      "----------------------------------------\n",
      "              carat         depth         table         price             x  \\\n",
      "count  53940.000000  53940.000000  53940.000000  53940.000000  53940.000000   \n",
      "mean       0.797940     61.749405     57.457184   3932.799722      5.731157   \n",
      "std        0.474011      1.432621      2.234491   3989.439738      1.121761   \n",
      "min        0.200000     43.000000     43.000000    326.000000      0.000000   \n",
      "25%        0.400000     61.000000     56.000000    950.000000      4.710000   \n",
      "50%        0.700000     61.800000     57.000000   2401.000000      5.700000   \n",
      "75%        1.040000     62.500000     59.000000   5324.250000      6.540000   \n",
      "max        5.010000     79.000000     95.000000  18823.000000     10.740000   \n",
      "\n",
      "                  y             z  \n",
      "count  53940.000000  53940.000000  \n",
      "mean       5.734526      3.538734  \n",
      "std        1.142135      0.705699  \n",
      "min        0.000000      0.000000  \n",
      "25%        4.720000      2.910000  \n",
      "50%        5.710000      3.530000  \n",
      "75%        6.540000      4.040000  \n",
      "max       58.900000     31.800000  \n",
      "----------------------------------------\n",
      "cut ['Ideal' 'Premium' 'Good' 'Very Good' 'Fair']\n",
      "color ['E' 'I' 'J' 'H' 'F' 'G' 'D']\n",
      "clarity ['SI2' 'SI1' 'VS1' 'VS2' 'VVS2' 'VVS1' 'I1' 'IF']\n"
     ]
    }
   ],
   "source": [
    "print(diamonds.info())\n",
    "print('-'* 40)\n",
    "print(diamonds.describe())\n",
    "print('-'* 40)\n",
    "for c in diamonds.iloc[:,1:4].columns:\n",
    "    print(str(c),diamonds[c].unique())"
   ]
  },
  {
   "cell_type": "code",
   "execution_count": 352,
   "metadata": {},
   "outputs": [
    {
     "data": {
      "text/html": [
       "<div>\n",
       "<style scoped>\n",
       "    .dataframe tbody tr th:only-of-type {\n",
       "        vertical-align: middle;\n",
       "    }\n",
       "\n",
       "    .dataframe tbody tr th {\n",
       "        vertical-align: top;\n",
       "    }\n",
       "\n",
       "    .dataframe thead th {\n",
       "        text-align: right;\n",
       "    }\n",
       "</style>\n",
       "<table border=\"1\" class=\"dataframe\">\n",
       "  <thead>\n",
       "    <tr style=\"text-align: right;\">\n",
       "      <th></th>\n",
       "      <th>carat</th>\n",
       "      <th>cut</th>\n",
       "      <th>color</th>\n",
       "      <th>clarity</th>\n",
       "      <th>depth</th>\n",
       "      <th>table</th>\n",
       "      <th>price</th>\n",
       "      <th>x</th>\n",
       "      <th>y</th>\n",
       "      <th>z</th>\n",
       "    </tr>\n",
       "  </thead>\n",
       "  <tbody>\n",
       "    <tr>\n",
       "      <th>0</th>\n",
       "      <td>0.23</td>\n",
       "      <td>1</td>\n",
       "      <td>2</td>\n",
       "      <td>2</td>\n",
       "      <td>61.5</td>\n",
       "      <td>55.0</td>\n",
       "      <td>326</td>\n",
       "      <td>3.95</td>\n",
       "      <td>3.98</td>\n",
       "      <td>2.43</td>\n",
       "    </tr>\n",
       "    <tr>\n",
       "      <th>1</th>\n",
       "      <td>0.21</td>\n",
       "      <td>2</td>\n",
       "      <td>2</td>\n",
       "      <td>3</td>\n",
       "      <td>59.8</td>\n",
       "      <td>61.0</td>\n",
       "      <td>326</td>\n",
       "      <td>3.89</td>\n",
       "      <td>3.84</td>\n",
       "      <td>2.31</td>\n",
       "    </tr>\n",
       "    <tr>\n",
       "      <th>2</th>\n",
       "      <td>0.23</td>\n",
       "      <td>4</td>\n",
       "      <td>2</td>\n",
       "      <td>5</td>\n",
       "      <td>56.9</td>\n",
       "      <td>65.0</td>\n",
       "      <td>327</td>\n",
       "      <td>4.05</td>\n",
       "      <td>4.07</td>\n",
       "      <td>2.31</td>\n",
       "    </tr>\n",
       "    <tr>\n",
       "      <th>3</th>\n",
       "      <td>0.29</td>\n",
       "      <td>2</td>\n",
       "      <td>6</td>\n",
       "      <td>4</td>\n",
       "      <td>62.4</td>\n",
       "      <td>58.0</td>\n",
       "      <td>334</td>\n",
       "      <td>4.20</td>\n",
       "      <td>4.23</td>\n",
       "      <td>2.63</td>\n",
       "    </tr>\n",
       "    <tr>\n",
       "      <th>4</th>\n",
       "      <td>0.31</td>\n",
       "      <td>4</td>\n",
       "      <td>7</td>\n",
       "      <td>2</td>\n",
       "      <td>63.3</td>\n",
       "      <td>58.0</td>\n",
       "      <td>335</td>\n",
       "      <td>4.34</td>\n",
       "      <td>4.35</td>\n",
       "      <td>2.75</td>\n",
       "    </tr>\n",
       "  </tbody>\n",
       "</table>\n",
       "</div>"
      ],
      "text/plain": [
       "   carat  cut  color  clarity  depth  table  price     x     y     z\n",
       "0   0.23    1      2        2   61.5   55.0    326  3.95  3.98  2.43\n",
       "1   0.21    2      2        3   59.8   61.0    326  3.89  3.84  2.31\n",
       "2   0.23    4      2        5   56.9   65.0    327  4.05  4.07  2.31\n",
       "3   0.29    2      6        4   62.4   58.0    334  4.20  4.23  2.63\n",
       "4   0.31    4      7        2   63.3   58.0    335  4.34  4.35  2.75"
      ]
     },
     "execution_count": 352,
     "metadata": {},
     "output_type": "execute_result"
    }
   ],
   "source": [
    "# OrdinalEncoder().fit(list(zip(range(5), ['Ideal', 'Premium', 'Very Good', 'Good', 'Fair']))).transform(diamonds.cut)\n",
    "df = diamonds.copy()\n",
    "df.cut = df.cut.map({'Ideal':1, 'Premium':2, 'Very Good':3, 'Good':4, 'Fair':5})\n",
    "df.color = df.color.map({'D':1, 'E':2, 'F':3, 'G':4, 'H':5, 'I':6, 'J':7})\n",
    "df.clarity = df.clarity.map({'I1':1, 'SI2':2, 'SI1':3, 'VS2':4, 'VS1':5, 'VVS2':6, 'VVS1':7, 'IF':8})\n",
    "df.head()"
   ]
  },
  {
   "cell_type": "code",
   "execution_count": 380,
   "metadata": {},
   "outputs": [],
   "source": [
    "feature_universe = ['carat', 'cut', 'color', 'clarity', 'depth', 'table']\n",
    "feature_importances = feature_selection.mutual_info_regression(df[feature_universe], df.price)"
   ]
  },
  {
   "cell_type": "code",
   "execution_count": 394,
   "metadata": {},
   "outputs": [
    {
     "name": "stdout",
     "output_type": "stream",
     "text": [
      "   feature_importances predictors\n",
      "0             1.961312      carat\n",
      "3             0.358792    clarity\n",
      "2             0.287057      color\n",
      "1             0.100431        cut\n",
      "5             0.051737      table\n",
      "4             0.036144      depth\n",
      "---------------------------------\n",
      "top features:  ['carat', 'clarity', 'color']\n"
     ]
    }
   ],
   "source": [
    "feature_importances_df = pd.DataFrame({'feature_importances':feature_importances, 'predictors':feature_universe})\n",
    "feature_importances_df.sort_values(\"feature_importances\", ascending=False, inplace = True)\n",
    "top_features = feature_importances_df.predictors[:3].tolist()\n",
    "print(feature_importances_df)\n",
    "print('-'*33)\n",
    "print('top features: ', top_features)"
   ]
  },
  {
   "cell_type": "code",
   "execution_count": 383,
   "metadata": {},
   "outputs": [
    {
     "data": {
      "text/html": [
       "<div>\n",
       "<style scoped>\n",
       "    .dataframe tbody tr th:only-of-type {\n",
       "        vertical-align: middle;\n",
       "    }\n",
       "\n",
       "    .dataframe tbody tr th {\n",
       "        vertical-align: top;\n",
       "    }\n",
       "\n",
       "    .dataframe thead th {\n",
       "        text-align: right;\n",
       "    }\n",
       "</style>\n",
       "<table border=\"1\" class=\"dataframe\">\n",
       "  <thead>\n",
       "    <tr style=\"text-align: right;\">\n",
       "      <th></th>\n",
       "      <th>feature_importances</th>\n",
       "      <th>predictors</th>\n",
       "    </tr>\n",
       "  </thead>\n",
       "  <tbody>\n",
       "    <tr>\n",
       "      <th>0</th>\n",
       "      <td>1.961312</td>\n",
       "      <td>carat</td>\n",
       "    </tr>\n",
       "    <tr>\n",
       "      <th>3</th>\n",
       "      <td>0.358792</td>\n",
       "      <td>clarity</td>\n",
       "    </tr>\n",
       "    <tr>\n",
       "      <th>2</th>\n",
       "      <td>0.287057</td>\n",
       "      <td>color</td>\n",
       "    </tr>\n",
       "    <tr>\n",
       "      <th>1</th>\n",
       "      <td>0.100431</td>\n",
       "      <td>cut</td>\n",
       "    </tr>\n",
       "    <tr>\n",
       "      <th>5</th>\n",
       "      <td>0.051737</td>\n",
       "      <td>table</td>\n",
       "    </tr>\n",
       "    <tr>\n",
       "      <th>4</th>\n",
       "      <td>0.036144</td>\n",
       "      <td>depth</td>\n",
       "    </tr>\n",
       "  </tbody>\n",
       "</table>\n",
       "</div>"
      ],
      "text/plain": [
       "   feature_importances predictors\n",
       "0             1.961312      carat\n",
       "3             0.358792    clarity\n",
       "2             0.287057      color\n",
       "1             0.100431        cut\n",
       "5             0.051737      table\n",
       "4             0.036144      depth"
      ]
     },
     "execution_count": 383,
     "metadata": {},
     "output_type": "execute_result"
    }
   ],
   "source": [
    "feature_importances_df"
   ]
  },
  {
   "cell_type": "code",
   "execution_count": 362,
   "metadata": {},
   "outputs": [
    {
     "data": {
      "text/plain": [
       "Index(['carat', 'cut', 'color', 'clarity', 'depth', 'table', 'x', 'y', 'z'], dtype='object')"
      ]
     },
     "execution_count": 362,
     "metadata": {},
     "output_type": "execute_result"
    }
   ],
   "source": [
    "df.loc[:, diamonds.columns!= 'price'].columns"
   ]
  },
  {
   "cell_type": "code",
   "execution_count": 348,
   "metadata": {},
   "outputs": [
    {
     "name": "stdout",
     "output_type": "stream",
     "text": [
      "                            OLS Regression Results                            \n",
      "==============================================================================\n",
      "Dep. Variable:                  price   R-squared:                       0.907\n",
      "Model:                            OLS   Adj. R-squared:                  0.907\n",
      "Method:                 Least Squares   F-statistic:                 5.845e+04\n",
      "Date:                Fri, 31 May 2019   Prob (F-statistic):               0.00\n",
      "Time:                        16:35:18   Log-Likelihood:            -4.5972e+05\n",
      "No. Observations:               53940   AIC:                         9.195e+05\n",
      "Df Residuals:                   53930   BIC:                         9.195e+05\n",
      "Df Model:                           9                                         \n",
      "Covariance Type:            nonrobust                                         \n",
      "==============================================================================\n",
      "                 coef    std err          t      P>|t|      [0.025      0.975]\n",
      "------------------------------------------------------------------------------\n",
      "const       6087.2205    412.122     14.770      0.000    5279.458    6894.983\n",
      "x1          1.074e+04     51.837    207.263      0.000    1.06e+04    1.08e+04\n",
      "x2          -120.7505      5.715    -21.130      0.000    -131.951    -109.550\n",
      "x3          -322.6964      3.259    -99.003      0.000    -329.085    -316.308\n",
      "x4           501.8558      3.523    142.450      0.000     494.951     508.761\n",
      "x5           -79.7927      4.794    -16.644      0.000     -89.189     -70.397\n",
      "x6           -26.7595      2.948     -9.078      0.000     -32.537     -20.982\n",
      "x7          -877.6306     35.226    -24.914      0.000    -946.674    -808.587\n",
      "x8            43.7355     20.751      2.108      0.035       3.064      84.407\n",
      "x9           -29.3347     36.017     -0.814      0.415     -99.929      41.259\n",
      "==============================================================================\n",
      "Omnibus:                    12438.834   Durbin-Watson:                   1.148\n",
      "Prob(Omnibus):                  0.000   Jarque-Bera (JB):           659521.358\n",
      "Skew:                          -0.141   Prob(JB):                         0.00\n",
      "Kurtosis:                      20.128   Cond. No.                     6.70e+03\n",
      "==============================================================================\n",
      "\n",
      "Warnings:\n",
      "[1] Standard Errors assume that the covariance matrix of the errors is correctly specified.\n",
      "[2] The condition number is large, 6.7e+03. This might indicate that there are\n",
      "strong multicollinearity or other numerical problems.\n"
     ]
    }
   ],
   "source": [
    "x = df.loc[:, diamonds.columns!= 'price']\n",
    "y = df.price\n",
    "x_cons = sm.add_constant(x)\n",
    "est = sm.OLS(y, x_cons.values).fit()\n",
    "print(est.summary())"
   ]
  },
  {
   "cell_type": "code",
   "execution_count": null,
   "metadata": {},
   "outputs": [],
   "source": [
    "x = np.random.normal(size = 100)\n",
    "y = 3 * x + np.random.normal(scale = 3, size = 100) + 2\n",
    "\n",
    "N = len(x)\n",
    "cost_history = []\n",
    "\n",
    "num_iterations = 500\n",
    "learning_rate = 0.01\n",
    "\n",
    "beta_0 = 0\n",
    "beta_1 = 0\n",
    "\n",
    "for each_iteration in range(num_iterations):\n",
    "    \n",
    "\n",
    "    beta_0_deriv = 0\n",
    "    beta_1_deriv = 0\n",
    "\n",
    "    for i in range(N):\n",
    "        # Calculate partial derivatives\n",
    "        # -2x(y - (beta_1*x + beta_0))\n",
    "        beta_1_deriv += -2*x[i] * (y[i] - (beta_1*x[i] + beta_0))\n",
    "\n",
    "        # -2(y - (beta_1*x + beta_0))\n",
    "        beta_0_deriv += -2*(y[i] - (beta_1*x[i] + beta_0))\n",
    "\n",
    "    # We subtract because the derivatives point in direction of steepest ascent\n",
    "    beta_1 -= (beta_1_deriv / N) * learning_rate\n",
    "    beta_0 -= (beta_0_deriv / N) * learning_rate\n",
    "    \n",
    "    \n",
    "    #Calculate cost for auditing purposes\n",
    "    total_error = 0.0\n",
    "    for i in range(N):\n",
    "        total_error += (y[i] - (beta_1*x[i] + beta_0))**2\n",
    "    cost = total_error / N\n",
    "    cost_history.append(cost)\n",
    "\n",
    "    # Log Progress\n",
    "    if each_iteration % 10 == 0:\n",
    "        print (\"iter={:d}    beta_1={:.2f}    beta_0={:.4f}    cost={:.2}\".format(each_iteration, beta_1, beta_0, cost))\n",
    "\n",
    "print ('beta_0: '+ str(beta_0))\n",
    "print ('beta_1: '+ str(beta_1))\n",
    "\n",
    "plt.scatter(x,y)\n",
    "plt.plot(x, beta_1*x + beta_0)"
   ]
  },
  {
   "cell_type": "code",
   "execution_count": 36,
   "metadata": {},
   "outputs": [],
   "source": [
    "def gradient_descent_linear_regression (x, y, z):\n",
    "    \n",
    "    N = len(x)\n",
    "    cost_history = []\n",
    "\n",
    "    num_iterations = 500\n",
    "    learning_rate = 0.001\n",
    "\n",
    "    beta_0 = 0\n",
    "    beta_1 = 0\n",
    "    beta_2 = 0\n",
    "\n",
    "    for each_iteration in range(num_iterations):\n",
    "\n",
    "\n",
    "        beta_0_deriv = 0\n",
    "        beta_1_deriv = 0\n",
    "        beta_2_deriv = 0\n",
    "        \n",
    "\n",
    "        for i in range(N):\n",
    "            # Calculate partial derivatives\n",
    "            # -2x(y - (beta_1*x + beta_0)).      -2z(y - (beta_2*z + beta_1*x + beta_0))\n",
    "            beta_2_deriv += -2*z[i] * (y[i] - (beta_2*z[i] + beta_1*x[i] + beta_0))\n",
    "            \n",
    "            beta_1_deriv += -2*x[i] * (y[i] - (beta_2*z[i] + beta_1*x[i] + beta_0))\n",
    "\n",
    "            # -2(y - (beta_1*x + beta_0))\n",
    "            beta_0_deriv += -2*(y[i] - (beta_2*z[i] + beta_1*x[i] + beta_0))\n",
    "\n",
    "        # We subtract because the derivatives point in direction of steepest ascent\n",
    "        beta_2 -= (beta_2_deriv / N) * learning_rate\n",
    "        beta_1 -= (beta_1_deriv / N) * learning_rate\n",
    "        beta_0 -= (beta_0_deriv / N) * learning_rate\n",
    "\n",
    "\n",
    "        #Calculate cost for auditing purposes\n",
    "        total_error = 0.0\n",
    "        for i in range(N):\n",
    "            total_error += (y[i] - (beta_2*z[i] + beta_1*x[i] + beta_0))**2\n",
    "        cost = total_error / N\n",
    "        cost_history.append(cost)\n",
    "\n",
    "        # Log Progress\n",
    "        if each_iteration % 10 == 0:\n",
    "            print (\"iter={:d}  beta_2={:.2f}   beta_1={:.2f}    beta_0={:.4f}    cost={:.2}\".format(each_iteration,beta_2, beta_1, beta_0, cost))\n",
    "\n",
    "\n",
    "    \n",
    "    return beta_2, beta_1, beta_0 # a tuple of beta_0, beta_1\n",
    "\n",
    "\n",
    "\n",
    "\n"
   ]
  },
  {
   "cell_type": "code",
   "execution_count": 37,
   "metadata": {},
   "outputs": [
    {
     "name": "stdout",
     "output_type": "stream",
     "text": [
      "iter=0  beta_2=0.00   beta_1=0.01    beta_0=0.0031    cost=2.4e+01\n",
      "iter=10  beta_2=0.01   beta_1=0.08    beta_0=0.0339    cost=2.3e+01\n",
      "iter=20  beta_2=0.02   beta_1=0.15    beta_0=0.0641    cost=2.2e+01\n",
      "iter=30  beta_2=0.04   beta_1=0.22    beta_0=0.0937    cost=2.2e+01\n",
      "iter=40  beta_2=0.05   beta_1=0.29    beta_0=0.1228    cost=2.1e+01\n",
      "iter=50  beta_2=0.06   beta_1=0.36    beta_0=0.1513    cost=2.1e+01\n",
      "iter=60  beta_2=0.07   beta_1=0.42    beta_0=0.1793    cost=2e+01\n",
      "iter=70  beta_2=0.08   beta_1=0.48    beta_0=0.2068    cost=2e+01\n",
      "iter=80  beta_2=0.09   beta_1=0.55    beta_0=0.2338    cost=1.9e+01\n",
      "iter=90  beta_2=0.10   beta_1=0.61    beta_0=0.2602    cost=1.9e+01\n",
      "iter=100  beta_2=0.11   beta_1=0.67    beta_0=0.2861    cost=1.8e+01\n",
      "iter=110  beta_2=0.12   beta_1=0.73    beta_0=0.3116    cost=1.8e+01\n",
      "iter=120  beta_2=0.13   beta_1=0.78    beta_0=0.3366    cost=1.7e+01\n",
      "iter=130  beta_2=0.14   beta_1=0.84    beta_0=0.3611    cost=1.7e+01\n",
      "iter=140  beta_2=0.15   beta_1=0.90    beta_0=0.3852    cost=1.7e+01\n",
      "iter=150  beta_2=0.16   beta_1=0.95    beta_0=0.4088    cost=1.6e+01\n",
      "iter=160  beta_2=0.17   beta_1=1.00    beta_0=0.4319    cost=1.6e+01\n",
      "iter=170  beta_2=0.18   beta_1=1.05    beta_0=0.4546    cost=1.6e+01\n",
      "iter=180  beta_2=0.19   beta_1=1.10    beta_0=0.4769    cost=1.5e+01\n",
      "iter=190  beta_2=0.20   beta_1=1.15    beta_0=0.4988    cost=1.5e+01\n",
      "iter=200  beta_2=0.21   beta_1=1.20    beta_0=0.5203    cost=1.5e+01\n",
      "iter=210  beta_2=0.22   beta_1=1.25    beta_0=0.5413    cost=1.4e+01\n",
      "iter=220  beta_2=0.23   beta_1=1.30    beta_0=0.5620    cost=1.4e+01\n",
      "iter=230  beta_2=0.23   beta_1=1.34    beta_0=0.5823    cost=1.4e+01\n",
      "iter=240  beta_2=0.24   beta_1=1.39    beta_0=0.6022    cost=1.4e+01\n",
      "iter=250  beta_2=0.25   beta_1=1.43    beta_0=0.6217    cost=1.3e+01\n",
      "iter=260  beta_2=0.26   beta_1=1.47    beta_0=0.6408    cost=1.3e+01\n",
      "iter=270  beta_2=0.27   beta_1=1.51    beta_0=0.6596    cost=1.3e+01\n",
      "iter=280  beta_2=0.28   beta_1=1.55    beta_0=0.6781    cost=1.3e+01\n",
      "iter=290  beta_2=0.28   beta_1=1.59    beta_0=0.6962    cost=1.3e+01\n",
      "iter=300  beta_2=0.29   beta_1=1.63    beta_0=0.7139    cost=1.2e+01\n",
      "iter=310  beta_2=0.30   beta_1=1.67    beta_0=0.7313    cost=1.2e+01\n",
      "iter=320  beta_2=0.31   beta_1=1.71    beta_0=0.7484    cost=1.2e+01\n",
      "iter=330  beta_2=0.32   beta_1=1.75    beta_0=0.7652    cost=1.2e+01\n",
      "iter=340  beta_2=0.32   beta_1=1.78    beta_0=0.7817    cost=1.2e+01\n",
      "iter=350  beta_2=0.33   beta_1=1.82    beta_0=0.7978    cost=1.2e+01\n",
      "iter=360  beta_2=0.34   beta_1=1.85    beta_0=0.8136    cost=1.1e+01\n",
      "iter=370  beta_2=0.34   beta_1=1.89    beta_0=0.8292    cost=1.1e+01\n",
      "iter=380  beta_2=0.35   beta_1=1.92    beta_0=0.8444    cost=1.1e+01\n",
      "iter=390  beta_2=0.36   beta_1=1.95    beta_0=0.8594    cost=1.1e+01\n",
      "iter=400  beta_2=0.37   beta_1=1.98    beta_0=0.8741    cost=1.1e+01\n",
      "iter=410  beta_2=0.37   beta_1=2.01    beta_0=0.8885    cost=1.1e+01\n",
      "iter=420  beta_2=0.38   beta_1=2.04    beta_0=0.9026    cost=1.1e+01\n",
      "iter=430  beta_2=0.39   beta_1=2.07    beta_0=0.9165    cost=1.1e+01\n",
      "iter=440  beta_2=0.39   beta_1=2.10    beta_0=0.9301    cost=1e+01\n",
      "iter=450  beta_2=0.40   beta_1=2.13    beta_0=0.9435    cost=1e+01\n",
      "iter=460  beta_2=0.41   beta_1=2.16    beta_0=0.9566    cost=1e+01\n",
      "iter=470  beta_2=0.41   beta_1=2.19    beta_0=0.9694    cost=1e+01\n",
      "iter=480  beta_2=0.42   beta_1=2.21    beta_0=0.9820    cost=1e+01\n",
      "iter=490  beta_2=0.42   beta_1=2.24    beta_0=0.9944    cost=9.9\n"
     ]
    },
    {
     "data": {
      "text/plain": [
       "(0.4293140584048151, 2.2628937544170555, 1.005343499390427)"
      ]
     },
     "execution_count": 37,
     "metadata": {},
     "output_type": "execute_result"
    }
   ],
   "source": [
    "z = np.random.normal(size = 100)\n",
    "x = np.random.normal(size = 100)\n",
    "y = 3 * x + np.random.normal(scale = 3, size = 100) + 2\n",
    "\n",
    "\n",
    "gradient_descent_linear_regression(x,y,z)"
   ]
  },
  {
   "cell_type": "markdown",
   "metadata": {},
   "source": [
    "# NLP with Spacy"
   ]
  },
  {
   "cell_type": "code",
   "execution_count": 1,
   "metadata": {},
   "outputs": [
    {
     "ename": "OSError",
     "evalue": "[E050] Can't find model 'en_core_web_lg'. It doesn't seem to be a shortcut link, a Python package or a valid path to a data directory.",
     "output_type": "error",
     "traceback": [
      "\u001b[1;31m---------------------------------------------------------------------------\u001b[0m",
      "\u001b[1;31mOSError\u001b[0m                                   Traceback (most recent call last)",
      "\u001b[1;32m<ipython-input-1-7b0c6553675d>\u001b[0m in \u001b[0;36m<module>\u001b[1;34m\u001b[0m\n\u001b[0;32m      1\u001b[0m \u001b[1;32mimport\u001b[0m \u001b[0mspacy\u001b[0m\u001b[1;33m\u001b[0m\u001b[1;33m\u001b[0m\u001b[0m\n\u001b[0;32m      2\u001b[0m \u001b[1;33m\u001b[0m\u001b[0m\n\u001b[1;32m----> 3\u001b[1;33m \u001b[0mnlp\u001b[0m \u001b[1;33m=\u001b[0m \u001b[0mspacy\u001b[0m\u001b[1;33m.\u001b[0m\u001b[0mload\u001b[0m\u001b[1;33m(\u001b[0m\u001b[1;34m'en_core_web_lg'\u001b[0m\u001b[1;33m)\u001b[0m\u001b[1;33m\u001b[0m\u001b[1;33m\u001b[0m\u001b[0m\n\u001b[0m\u001b[0;32m      4\u001b[0m \u001b[0mdoc1\u001b[0m \u001b[1;33m=\u001b[0m \u001b[0mnlp\u001b[0m\u001b[1;33m(\u001b[0m\u001b[1;34mu\"Slava is an awesome guy\"\u001b[0m\u001b[1;33m)\u001b[0m\u001b[1;33m\u001b[0m\u001b[1;33m\u001b[0m\u001b[0m\n\u001b[0;32m      5\u001b[0m \u001b[0mdoc2\u001b[0m \u001b[1;33m=\u001b[0m \u001b[0mnlp\u001b[0m\u001b[1;33m(\u001b[0m\u001b[1;34mu\"Cattle,colloquially cows,are the most common type of large domesticated ungulates.\"\u001b[0m\u001b[1;33m)\u001b[0m\u001b[1;33m\u001b[0m\u001b[1;33m\u001b[0m\u001b[0m\n",
      "\u001b[1;32m~\\AppData\\Local\\Continuum\\anaconda3\\lib\\site-packages\\spacy\\__init__.py\u001b[0m in \u001b[0;36mload\u001b[1;34m(name, **overrides)\u001b[0m\n\u001b[0;32m     25\u001b[0m     \u001b[1;32mif\u001b[0m \u001b[0mdepr_path\u001b[0m \u001b[1;32mnot\u001b[0m \u001b[1;32min\u001b[0m \u001b[1;33m(\u001b[0m\u001b[1;32mTrue\u001b[0m\u001b[1;33m,\u001b[0m \u001b[1;32mFalse\u001b[0m\u001b[1;33m,\u001b[0m \u001b[1;32mNone\u001b[0m\u001b[1;33m)\u001b[0m\u001b[1;33m:\u001b[0m\u001b[1;33m\u001b[0m\u001b[1;33m\u001b[0m\u001b[0m\n\u001b[0;32m     26\u001b[0m         \u001b[0mdeprecation_warning\u001b[0m\u001b[1;33m(\u001b[0m\u001b[0mWarnings\u001b[0m\u001b[1;33m.\u001b[0m\u001b[0mW001\u001b[0m\u001b[1;33m.\u001b[0m\u001b[0mformat\u001b[0m\u001b[1;33m(\u001b[0m\u001b[0mpath\u001b[0m\u001b[1;33m=\u001b[0m\u001b[0mdepr_path\u001b[0m\u001b[1;33m)\u001b[0m\u001b[1;33m)\u001b[0m\u001b[1;33m\u001b[0m\u001b[1;33m\u001b[0m\u001b[0m\n\u001b[1;32m---> 27\u001b[1;33m     \u001b[1;32mreturn\u001b[0m \u001b[0mutil\u001b[0m\u001b[1;33m.\u001b[0m\u001b[0mload_model\u001b[0m\u001b[1;33m(\u001b[0m\u001b[0mname\u001b[0m\u001b[1;33m,\u001b[0m \u001b[1;33m**\u001b[0m\u001b[0moverrides\u001b[0m\u001b[1;33m)\u001b[0m\u001b[1;33m\u001b[0m\u001b[1;33m\u001b[0m\u001b[0m\n\u001b[0m\u001b[0;32m     28\u001b[0m \u001b[1;33m\u001b[0m\u001b[0m\n\u001b[0;32m     29\u001b[0m \u001b[1;33m\u001b[0m\u001b[0m\n",
      "\u001b[1;32m~\\AppData\\Local\\Continuum\\anaconda3\\lib\\site-packages\\spacy\\util.py\u001b[0m in \u001b[0;36mload_model\u001b[1;34m(name, **overrides)\u001b[0m\n\u001b[0;32m    134\u001b[0m     \u001b[1;32melif\u001b[0m \u001b[0mhasattr\u001b[0m\u001b[1;33m(\u001b[0m\u001b[0mname\u001b[0m\u001b[1;33m,\u001b[0m \u001b[1;34m\"exists\"\u001b[0m\u001b[1;33m)\u001b[0m\u001b[1;33m:\u001b[0m  \u001b[1;31m# Path or Path-like to model data\u001b[0m\u001b[1;33m\u001b[0m\u001b[1;33m\u001b[0m\u001b[0m\n\u001b[0;32m    135\u001b[0m         \u001b[1;32mreturn\u001b[0m \u001b[0mload_model_from_path\u001b[0m\u001b[1;33m(\u001b[0m\u001b[0mname\u001b[0m\u001b[1;33m,\u001b[0m \u001b[1;33m**\u001b[0m\u001b[0moverrides\u001b[0m\u001b[1;33m)\u001b[0m\u001b[1;33m\u001b[0m\u001b[1;33m\u001b[0m\u001b[0m\n\u001b[1;32m--> 136\u001b[1;33m     \u001b[1;32mraise\u001b[0m \u001b[0mIOError\u001b[0m\u001b[1;33m(\u001b[0m\u001b[0mErrors\u001b[0m\u001b[1;33m.\u001b[0m\u001b[0mE050\u001b[0m\u001b[1;33m.\u001b[0m\u001b[0mformat\u001b[0m\u001b[1;33m(\u001b[0m\u001b[0mname\u001b[0m\u001b[1;33m=\u001b[0m\u001b[0mname\u001b[0m\u001b[1;33m)\u001b[0m\u001b[1;33m)\u001b[0m\u001b[1;33m\u001b[0m\u001b[1;33m\u001b[0m\u001b[0m\n\u001b[0m\u001b[0;32m    137\u001b[0m \u001b[1;33m\u001b[0m\u001b[0m\n\u001b[0;32m    138\u001b[0m \u001b[1;33m\u001b[0m\u001b[0m\n",
      "\u001b[1;31mOSError\u001b[0m: [E050] Can't find model 'en_core_web_lg'. It doesn't seem to be a shortcut link, a Python package or a valid path to a data directory."
     ]
    }
   ],
   "source": [
    "import spacy\n",
    "\n",
    "nlp = spacy.load('en_core_web_lg')\n",
    "doc1 = nlp(u\"Slava is an awesome guy\")\n",
    "doc2 = nlp(u\"Cattle,colloquially cows,are the most common type of large domesticated ungulates.\")\n",
    "doc1.similarity(doc2)"
   ]
  },
  {
   "cell_type": "code",
   "execution_count": 1,
   "metadata": {},
   "outputs": [
    {
     "data": {
      "text/plain": [
       "RandomForestClassifier(bootstrap=True, class_weight=None, criterion='gini',\n",
       "            max_depth=None, max_features='auto', max_leaf_nodes=None,\n",
       "            min_impurity_decrease=0.0, min_impurity_split=None,\n",
       "            min_samples_leaf=1, min_samples_split=2,\n",
       "            min_weight_fraction_leaf=0.0, n_estimators='warn', n_jobs=None,\n",
       "            oob_score=False, random_state=None, verbose=0,\n",
       "            warm_start=False)"
      ]
     },
     "execution_count": 1,
     "metadata": {},
     "output_type": "execute_result"
    }
   ],
   "source": [
    "from googletrans import Translator\n",
    "import pandas as pd\n",
    "import spacy\n",
    "import numpy as np\n",
    "import time\n",
    "from sklearn import svm, tree, linear_model, ensemble, model_selection\n",
    "from sklearn.decomposition import PCA\n",
    "import matplotlib.pyplot as plt\n",
    "import matplotlib.patches as patches\n",
    "from sklearn.metrics import roc_curve,auc\n",
    "from scipy import interp\n",
    "\n",
    "\n",
    "ensemble.RandomForestClassifier()"
   ]
  },
  {
   "cell_type": "code",
   "execution_count": null,
   "metadata": {},
   "outputs": [],
   "source": [
    "    ('lr',linear_model.LogisticRegression()), !!!\n",
    "    \n",
    "    # Ensemble Methods\n",
    "    ('ada',ensemble.AdaBoostClassifier()),\n",
    "    ('bc',ensemble.BaggingClassifier()),\n",
    "    ('gbc',ensemble.GradientBoostingClassifier()),#!!! built in\n",
    "    ('rfc',ensemble.RandomForestClassifier()), #!!!\n",
    "    \n",
    "    #SVM\n",
    "    ('svc', svm.SVC(probability=True)) #!!!\n",
    "]"
   ]
  },
  {
   "cell_type": "code",
   "execution_count": null,
   "metadata": {},
   "outputs": [],
   "source": []
  },
  {
   "cell_type": "code",
   "execution_count": null,
   "metadata": {},
   "outputs": [],
   "source": []
  },
  {
   "cell_type": "markdown",
   "metadata": {},
   "source": [
    "# Unit 5. Unsupervised learning"
   ]
  },
  {
   "cell_type": "code",
   "execution_count": 92,
   "metadata": {},
   "outputs": [],
   "source": [
    "from sklearn import model_selection, linear_model\n",
    "from sklearn import preprocessing\n",
    "import numpy as np\n",
    "import matplotlib.pyplot as plt\n",
    "import pandas as pd\n",
    "np.random.seed(0)\n",
    "\n",
    "lin_reg = linear_model.LinearRegression()"
   ]
  },
  {
   "cell_type": "code",
   "execution_count": 115,
   "metadata": {},
   "outputs": [
    {
     "data": {
      "image/png": "[encoded data removed]",
      "text/plain": [
       "<Figure size 432x288 with 2 Axes>"
      ]
     },
     "metadata": {
      "needs_background": "light"
     },
     "output_type": "display_data"
    }
   ],
   "source": [
    "point_per_class = 200\n",
    "\n",
    "mean = [2,-2]\n",
    "cov = [[1,4/5],[4/5,3]]\n",
    "\n",
    "X = np.random.multivariate_normal(mean, cov, point_per_class)\n",
    "Y = np.full((point_per_class), 0)\n",
    "\n",
    "scaler = preprocessing.StandardScaler()\n",
    "scaler.fit(X)\n",
    "X_normalized = scaler.transform(X)\n",
    "\n",
    "\n",
    "fig, (ax0, ax1) = plt.subplots(ncols=2)\n",
    "\n",
    "ax0.scatter(X[:,0], X[:,1])\n",
    "ax1.scatter(X_normalized[:,0], X_normalized[:,1])\n",
    "plt.axis('equal')\n",
    "plt.show()"
   ]
  },
  {
   "cell_type": "code",
   "execution_count": 11,
   "metadata": {},
   "outputs": [
    {
     "name": "stdout",
     "output_type": "stream",
     "text": [
      "3\n",
      "4\n",
      "5\n"
     ]
    }
   ],
   "source": [
    "n = 2\n",
    "list_1 = [1,2,3]\n",
    "\n",
    "for i in list_1:\n",
    "    if n >= 3:\n",
    "        print(i)\n",
    "        continue\n",
    "    print(n+i)"
   ]
  }
 ],
 "metadata": {
  "kernelspec": {
   "display_name": "Python 3",
   "language": "python",
   "name": "python3"
  },
  "language_info": {
   "codemirror_mode": {
    "name": "ipython",
    "version": 3
   },
   "file_extension": ".py",
   "mimetype": "text/x-python",
   "name": "python",
   "nbconvert_exporter": "python",
   "pygments_lexer": "ipython3",
   "version": "3.7.4"
  }
 },
 "nbformat": 4,
 "nbformat_minor": 2
}
